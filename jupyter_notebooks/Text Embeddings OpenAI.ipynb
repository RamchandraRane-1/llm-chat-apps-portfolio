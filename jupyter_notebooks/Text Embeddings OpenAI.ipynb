{
 "cells": [
  {
   "cell_type": "markdown",
   "id": "d7c64b07-d608-4742-9e0b-3be1906c492c",
   "metadata": {},
   "source": [
    "Similarity Score using OpenAI"
   ]
  },
  {
   "cell_type": "code",
   "execution_count": 1,
   "id": "df91c263",
   "metadata": {},
   "outputs": [
    {
     "name": "stdout",
     "output_type": "stream",
     "text": [
      "Defaulting to user installation because normal site-packages is not writeable\n",
      "Collecting langchain==0.1.4\n",
      "  Using cached langchain-0.1.4-py3-none-any.whl.metadata (13 kB)\n",
      "Requirement already satisfied: PyYAML>=5.3 in c:\\programdata\\anaconda3\\lib\\site-packages (from langchain==0.1.4) (6.0.1)\n",
      "Requirement already satisfied: SQLAlchemy<3,>=1.4 in c:\\programdata\\anaconda3\\lib\\site-packages (from langchain==0.1.4) (2.0.34)\n",
      "Requirement already satisfied: aiohttp<4.0.0,>=3.8.3 in c:\\programdata\\anaconda3\\lib\\site-packages (from langchain==0.1.4) (3.10.5)\n",
      "Requirement already satisfied: dataclasses-json<0.7,>=0.5.7 in c:\\users\\ranes\\appdata\\roaming\\python\\python312\\site-packages (from langchain==0.1.4) (0.6.7)\n",
      "Requirement already satisfied: jsonpatch<2.0,>=1.33 in c:\\programdata\\anaconda3\\lib\\site-packages (from langchain==0.1.4) (1.33)\n",
      "Requirement already satisfied: langchain-community<0.1,>=0.0.14 in c:\\users\\ranes\\appdata\\roaming\\python\\python312\\site-packages (from langchain==0.1.4) (0.0.38)\n",
      "Requirement already satisfied: langchain-core<0.2,>=0.1.16 in c:\\users\\ranes\\appdata\\roaming\\python\\python312\\site-packages (from langchain==0.1.4) (0.1.53)\n",
      "Collecting langsmith<0.1,>=0.0.83 (from langchain==0.1.4)\n",
      "  Using cached langsmith-0.0.92-py3-none-any.whl.metadata (9.9 kB)\n",
      "Requirement already satisfied: numpy<2,>=1 in c:\\programdata\\anaconda3\\lib\\site-packages (from langchain==0.1.4) (1.26.4)\n",
      "Requirement already satisfied: pydantic<3,>=1 in c:\\programdata\\anaconda3\\lib\\site-packages (from langchain==0.1.4) (2.8.2)\n",
      "Requirement already satisfied: requests<3,>=2 in c:\\programdata\\anaconda3\\lib\\site-packages (from langchain==0.1.4) (2.32.3)\n",
      "Requirement already satisfied: tenacity<9.0.0,>=8.1.0 in c:\\programdata\\anaconda3\\lib\\site-packages (from langchain==0.1.4) (8.2.3)\n",
      "Requirement already satisfied: aiohappyeyeballs>=2.3.0 in c:\\programdata\\anaconda3\\lib\\site-packages (from aiohttp<4.0.0,>=3.8.3->langchain==0.1.4) (2.4.0)\n",
      "Requirement already satisfied: aiosignal>=1.1.2 in c:\\programdata\\anaconda3\\lib\\site-packages (from aiohttp<4.0.0,>=3.8.3->langchain==0.1.4) (1.2.0)\n",
      "Requirement already satisfied: attrs>=17.3.0 in c:\\programdata\\anaconda3\\lib\\site-packages (from aiohttp<4.0.0,>=3.8.3->langchain==0.1.4) (23.1.0)\n",
      "Requirement already satisfied: frozenlist>=1.1.1 in c:\\programdata\\anaconda3\\lib\\site-packages (from aiohttp<4.0.0,>=3.8.3->langchain==0.1.4) (1.4.0)\n",
      "Requirement already satisfied: multidict<7.0,>=4.5 in c:\\programdata\\anaconda3\\lib\\site-packages (from aiohttp<4.0.0,>=3.8.3->langchain==0.1.4) (6.0.4)\n",
      "Requirement already satisfied: yarl<2.0,>=1.0 in c:\\programdata\\anaconda3\\lib\\site-packages (from aiohttp<4.0.0,>=3.8.3->langchain==0.1.4) (1.11.0)\n",
      "Requirement already satisfied: marshmallow<4.0.0,>=3.18.0 in c:\\users\\ranes\\appdata\\roaming\\python\\python312\\site-packages (from dataclasses-json<0.7,>=0.5.7->langchain==0.1.4) (3.26.1)\n",
      "Requirement already satisfied: typing-inspect<1,>=0.4.0 in c:\\users\\ranes\\appdata\\roaming\\python\\python312\\site-packages (from dataclasses-json<0.7,>=0.5.7->langchain==0.1.4) (0.9.0)\n",
      "Requirement already satisfied: jsonpointer>=1.9 in c:\\programdata\\anaconda3\\lib\\site-packages (from jsonpatch<2.0,>=1.33->langchain==0.1.4) (2.1)\n",
      "INFO: pip is looking at multiple versions of langchain-community to determine which version is compatible with other requirements. This could take a while.\n",
      "Collecting langchain-community<0.1,>=0.0.14 (from langchain==0.1.4)\n",
      "  Using cached langchain_community-0.0.37-py3-none-any.whl.metadata (8.7 kB)\n",
      "  Using cached langchain_community-0.0.36-py3-none-any.whl.metadata (8.7 kB)\n",
      "  Using cached langchain_community-0.0.35-py3-none-any.whl.metadata (8.7 kB)\n",
      "  Using cached langchain_community-0.0.34-py3-none-any.whl.metadata (8.5 kB)\n",
      "  Using cached langchain_community-0.0.33-py3-none-any.whl.metadata (8.5 kB)\n",
      "  Using cached langchain_community-0.0.32-py3-none-any.whl.metadata (8.5 kB)\n",
      "  Using cached langchain_community-0.0.31-py3-none-any.whl.metadata (8.4 kB)\n",
      "INFO: pip is still looking at multiple versions of langchain-community to determine which version is compatible with other requirements. This could take a while.\n",
      "  Using cached langchain_community-0.0.30-py3-none-any.whl.metadata (8.4 kB)\n",
      "  Using cached langchain_community-0.0.29-py3-none-any.whl.metadata (8.3 kB)\n",
      "  Using cached langchain_community-0.0.28-py3-none-any.whl.metadata (8.3 kB)\n",
      "  Using cached langchain_community-0.0.27-py3-none-any.whl.metadata (8.2 kB)\n",
      "  Using cached langchain_community-0.0.26-py3-none-any.whl.metadata (8.2 kB)\n",
      "INFO: This is taking longer than usual. You might need to provide the dependency resolver with stricter constraints to reduce runtime. See https://pip.pypa.io/warnings/backtracking for guidance. If you want to abort this run, press Ctrl + C.\n",
      "  Using cached langchain_community-0.0.25-py3-none-any.whl.metadata (8.1 kB)\n",
      "  Using cached langchain_community-0.0.24-py3-none-any.whl.metadata (8.1 kB)\n",
      "  Using cached langchain_community-0.0.23-py3-none-any.whl.metadata (8.1 kB)\n",
      "  Using cached langchain_community-0.0.22-py3-none-any.whl.metadata (8.1 kB)\n",
      "  Using cached langchain_community-0.0.21-py3-none-any.whl.metadata (8.1 kB)\n",
      "  Using cached langchain_community-0.0.20-py3-none-any.whl.metadata (8.1 kB)\n",
      "INFO: pip is looking at multiple versions of langchain-core to determine which version is compatible with other requirements. This could take a while.\n",
      "Collecting langchain-core<0.2,>=0.1.16 (from langchain==0.1.4)\n",
      "  Using cached langchain_core-0.1.52-py3-none-any.whl.metadata (5.9 kB)\n",
      "  Using cached langchain_core-0.1.51-py3-none-any.whl.metadata (5.9 kB)\n",
      "  Using cached langchain_core-0.1.50-py3-none-any.whl.metadata (5.9 kB)\n",
      "  Using cached langchain_core-0.1.49-py3-none-any.whl.metadata (5.9 kB)\n",
      "  Using cached langchain_core-0.1.48-py3-none-any.whl.metadata (5.9 kB)\n",
      "  Using cached langchain_core-0.1.47-py3-none-any.whl.metadata (5.9 kB)\n",
      "  Using cached langchain_core-0.1.46-py3-none-any.whl.metadata (5.9 kB)\n",
      "INFO: pip is still looking at multiple versions of langchain-core to determine which version is compatible with other requirements. This could take a while.\n",
      "  Using cached langchain_core-0.1.45-py3-none-any.whl.metadata (5.9 kB)\n",
      "  Using cached langchain_core-0.1.44-py3-none-any.whl.metadata (5.9 kB)\n",
      "  Using cached langchain_core-0.1.43-py3-none-any.whl.metadata (5.9 kB)\n",
      "  Using cached langchain_core-0.1.42-py3-none-any.whl.metadata (5.9 kB)\n",
      "  Using cached langchain_core-0.1.41-py3-none-any.whl.metadata (5.9 kB)\n",
      "INFO: This is taking longer than usual. You might need to provide the dependency resolver with stricter constraints to reduce runtime. See https://pip.pypa.io/warnings/backtracking for guidance. If you want to abort this run, press Ctrl + C.\n",
      "  Using cached langchain_core-0.1.40-py3-none-any.whl.metadata (5.9 kB)\n",
      "  Using cached langchain_core-0.1.39-py3-none-any.whl.metadata (5.9 kB)\n",
      "  Using cached langchain_core-0.1.38-py3-none-any.whl.metadata (6.0 kB)\n",
      "  Using cached langchain_core-0.1.37-py3-none-any.whl.metadata (6.0 kB)\n",
      "  Using cached langchain_core-0.1.36-py3-none-any.whl.metadata (6.0 kB)\n",
      "  Using cached langchain_core-0.1.35-py3-none-any.whl.metadata (6.0 kB)\n",
      "  Using cached langchain_core-0.1.34-py3-none-any.whl.metadata (6.0 kB)\n",
      "  Using cached langchain_core-0.1.33-py3-none-any.whl.metadata (6.0 kB)\n",
      "Requirement already satisfied: anyio<5,>=3 in c:\\programdata\\anaconda3\\lib\\site-packages (from langchain-core<0.2,>=0.1.16->langchain==0.1.4) (4.2.0)\n",
      "  Using cached langchain_core-0.1.32-py3-none-any.whl.metadata (6.0 kB)\n",
      "  Using cached langchain_core-0.1.31-py3-none-any.whl.metadata (6.0 kB)\n",
      "  Using cached langchain_core-0.1.30-py3-none-any.whl.metadata (6.0 kB)\n",
      "  Using cached langchain_core-0.1.29-py3-none-any.whl.metadata (6.0 kB)\n",
      "  Using cached langchain_core-0.1.28-py3-none-any.whl.metadata (6.0 kB)\n",
      "  Using cached langchain_core-0.1.27-py3-none-any.whl.metadata (6.0 kB)\n",
      "  Using cached langchain_core-0.1.26-py3-none-any.whl.metadata (6.0 kB)\n",
      "  Using cached langchain_core-0.1.25-py3-none-any.whl.metadata (6.0 kB)\n",
      "  Using cached langchain_core-0.1.24-py3-none-any.whl.metadata (6.0 kB)\n",
      "  Using cached langchain_core-0.1.23-py3-none-any.whl.metadata (6.0 kB)\n",
      "Collecting langsmith<0.1,>=0.0.83 (from langchain==0.1.4)\n",
      "  Using cached langsmith-0.0.87-py3-none-any.whl.metadata (10 kB)\n",
      "Requirement already satisfied: packaging<24.0,>=23.2 in c:\\users\\ranes\\appdata\\roaming\\python\\python312\\site-packages (from langchain-core<0.2,>=0.1.16->langchain==0.1.4) (23.2)\n",
      "Requirement already satisfied: annotated-types>=0.4.0 in c:\\programdata\\anaconda3\\lib\\site-packages (from pydantic<3,>=1->langchain==0.1.4) (0.6.0)\n",
      "Requirement already satisfied: pydantic-core==2.20.1 in c:\\programdata\\anaconda3\\lib\\site-packages (from pydantic<3,>=1->langchain==0.1.4) (2.20.1)\n",
      "Requirement already satisfied: typing-extensions>=4.6.1 in c:\\programdata\\anaconda3\\lib\\site-packages (from pydantic<3,>=1->langchain==0.1.4) (4.11.0)\n",
      "Requirement already satisfied: charset-normalizer<4,>=2 in c:\\programdata\\anaconda3\\lib\\site-packages (from requests<3,>=2->langchain==0.1.4) (3.3.2)\n",
      "Requirement already satisfied: idna<4,>=2.5 in c:\\programdata\\anaconda3\\lib\\site-packages (from requests<3,>=2->langchain==0.1.4) (3.7)\n",
      "Requirement already satisfied: urllib3<3,>=1.21.1 in c:\\programdata\\anaconda3\\lib\\site-packages (from requests<3,>=2->langchain==0.1.4) (2.2.3)\n",
      "Requirement already satisfied: certifi>=2017.4.17 in c:\\programdata\\anaconda3\\lib\\site-packages (from requests<3,>=2->langchain==0.1.4) (2025.4.26)\n",
      "Requirement already satisfied: greenlet!=0.4.17 in c:\\programdata\\anaconda3\\lib\\site-packages (from SQLAlchemy<3,>=1.4->langchain==0.1.4) (3.0.1)\n",
      "Requirement already satisfied: sniffio>=1.1 in c:\\programdata\\anaconda3\\lib\\site-packages (from anyio<5,>=3->langchain-core<0.2,>=0.1.16->langchain==0.1.4) (1.3.0)\n",
      "Requirement already satisfied: mypy-extensions>=0.3.0 in c:\\programdata\\anaconda3\\lib\\site-packages (from typing-inspect<1,>=0.4.0->dataclasses-json<0.7,>=0.5.7->langchain==0.1.4) (1.0.0)\n",
      "Using cached langchain-0.1.4-py3-none-any.whl (803 kB)\n",
      "Using cached langchain_community-0.0.20-py3-none-any.whl (1.7 MB)\n",
      "Using cached langchain_core-0.1.23-py3-none-any.whl (241 kB)\n",
      "Using cached langsmith-0.0.87-py3-none-any.whl (55 kB)\n",
      "Installing collected packages: langsmith, langchain-core, langchain-community, langchain\n",
      "  Attempting uninstall: langsmith\n",
      "    Found existing installation: langsmith 0.1.147\n",
      "    Uninstalling langsmith-0.1.147:\n",
      "      Successfully uninstalled langsmith-0.1.147\n",
      "  Attempting uninstall: langchain-core\n",
      "    Found existing installation: langchain-core 0.1.53\n",
      "    Uninstalling langchain-core-0.1.53:\n",
      "      Successfully uninstalled langchain-core-0.1.53\n",
      "  Attempting uninstall: langchain-community\n",
      "    Found existing installation: langchain-community 0.0.38\n",
      "    Uninstalling langchain-community-0.0.38:\n",
      "      Successfully uninstalled langchain-community-0.0.38\n",
      "  Attempting uninstall: langchain\n",
      "    Found existing installation: langchain 0.1.13\n",
      "    Uninstalling langchain-0.1.13:\n",
      "      Successfully uninstalled langchain-0.1.13\n",
      "Successfully installed langchain-0.1.4 langchain-community-0.0.20 langchain-core-0.1.23 langsmith-0.0.87\n"
     ]
    },
    {
     "name": "stderr",
     "output_type": "stream",
     "text": [
      "  WARNING: The script langsmith.exe is installed in 'C:\\Users\\ranes\\AppData\\Roaming\\Python\\Python312\\Scripts' which is not on PATH.\n",
      "  Consider adding this directory to PATH or, if you prefer to suppress this warning, use --no-warn-script-location.\n",
      "  WARNING: The script langchain-server.exe is installed in 'C:\\Users\\ranes\\AppData\\Roaming\\Python\\Python312\\Scripts' which is not on PATH.\n",
      "  Consider adding this directory to PATH or, if you prefer to suppress this warning, use --no-warn-script-location.\n",
      "ERROR: pip's dependency resolver does not currently take into account all the packages that are installed. This behaviour is the source of the following dependency conflicts.\n",
      "langchain-openai 0.1.0 requires langchain-core<0.2.0,>=0.1.33, but you have langchain-core 0.1.23 which is incompatible.\n",
      "langchain-text-splitters 0.0.2 requires langchain-core<0.3,>=0.1.28, but you have langchain-core 0.1.23 which is incompatible.\n"
     ]
    },
    {
     "name": "stdout",
     "output_type": "stream",
     "text": [
      "Defaulting to user installation because normal site-packages is not writeable\n",
      "Collecting langchain-openai==0.0.5\n",
      "  Using cached langchain_openai-0.0.5-py3-none-any.whl.metadata (2.5 kB)\n",
      "Requirement already satisfied: langchain-core<0.2,>=0.1.16 in c:\\users\\ranes\\appdata\\roaming\\python\\python312\\site-packages (from langchain-openai==0.0.5) (0.1.23)\n",
      "Requirement already satisfied: numpy<2,>=1 in c:\\programdata\\anaconda3\\lib\\site-packages (from langchain-openai==0.0.5) (1.26.4)\n",
      "Requirement already satisfied: openai<2.0.0,>=1.10.0 in c:\\users\\ranes\\appdata\\roaming\\python\\python312\\site-packages (from langchain-openai==0.0.5) (1.14.2)\n",
      "Collecting tiktoken<0.6.0,>=0.5.2 (from langchain-openai==0.0.5)\n",
      "  Using cached tiktoken-0.5.2-cp312-cp312-win_amd64.whl.metadata (6.8 kB)\n",
      "Requirement already satisfied: PyYAML>=5.3 in c:\\programdata\\anaconda3\\lib\\site-packages (from langchain-core<0.2,>=0.1.16->langchain-openai==0.0.5) (6.0.1)\n",
      "Requirement already satisfied: anyio<5,>=3 in c:\\programdata\\anaconda3\\lib\\site-packages (from langchain-core<0.2,>=0.1.16->langchain-openai==0.0.5) (4.2.0)\n",
      "Requirement already satisfied: jsonpatch<2.0,>=1.33 in c:\\programdata\\anaconda3\\lib\\site-packages (from langchain-core<0.2,>=0.1.16->langchain-openai==0.0.5) (1.33)\n",
      "Requirement already satisfied: langsmith<0.0.88,>=0.0.87 in c:\\users\\ranes\\appdata\\roaming\\python\\python312\\site-packages (from langchain-core<0.2,>=0.1.16->langchain-openai==0.0.5) (0.0.87)\n",
      "Requirement already satisfied: packaging<24.0,>=23.2 in c:\\users\\ranes\\appdata\\roaming\\python\\python312\\site-packages (from langchain-core<0.2,>=0.1.16->langchain-openai==0.0.5) (23.2)\n",
      "Requirement already satisfied: pydantic<3,>=1 in c:\\programdata\\anaconda3\\lib\\site-packages (from langchain-core<0.2,>=0.1.16->langchain-openai==0.0.5) (2.8.2)\n",
      "Requirement already satisfied: requests<3,>=2 in c:\\programdata\\anaconda3\\lib\\site-packages (from langchain-core<0.2,>=0.1.16->langchain-openai==0.0.5) (2.32.3)\n",
      "Requirement already satisfied: tenacity<9.0.0,>=8.1.0 in c:\\programdata\\anaconda3\\lib\\site-packages (from langchain-core<0.2,>=0.1.16->langchain-openai==0.0.5) (8.2.3)\n",
      "Requirement already satisfied: distro<2,>=1.7.0 in c:\\programdata\\anaconda3\\lib\\site-packages (from openai<2.0.0,>=1.10.0->langchain-openai==0.0.5) (1.9.0)\n",
      "Requirement already satisfied: httpx<1,>=0.23.0 in c:\\programdata\\anaconda3\\lib\\site-packages (from openai<2.0.0,>=1.10.0->langchain-openai==0.0.5) (0.27.0)\n",
      "Requirement already satisfied: sniffio in c:\\programdata\\anaconda3\\lib\\site-packages (from openai<2.0.0,>=1.10.0->langchain-openai==0.0.5) (1.3.0)\n",
      "Requirement already satisfied: tqdm>4 in c:\\programdata\\anaconda3\\lib\\site-packages (from openai<2.0.0,>=1.10.0->langchain-openai==0.0.5) (4.66.5)\n",
      "Requirement already satisfied: typing-extensions<5,>=4.7 in c:\\programdata\\anaconda3\\lib\\site-packages (from openai<2.0.0,>=1.10.0->langchain-openai==0.0.5) (4.11.0)\n",
      "Requirement already satisfied: regex>=2022.1.18 in c:\\programdata\\anaconda3\\lib\\site-packages (from tiktoken<0.6.0,>=0.5.2->langchain-openai==0.0.5) (2024.9.11)\n",
      "Requirement already satisfied: idna>=2.8 in c:\\programdata\\anaconda3\\lib\\site-packages (from anyio<5,>=3->langchain-core<0.2,>=0.1.16->langchain-openai==0.0.5) (3.7)\n",
      "Requirement already satisfied: certifi in c:\\programdata\\anaconda3\\lib\\site-packages (from httpx<1,>=0.23.0->openai<2.0.0,>=1.10.0->langchain-openai==0.0.5) (2025.4.26)\n",
      "Requirement already satisfied: httpcore==1.* in c:\\programdata\\anaconda3\\lib\\site-packages (from httpx<1,>=0.23.0->openai<2.0.0,>=1.10.0->langchain-openai==0.0.5) (1.0.2)\n",
      "Requirement already satisfied: h11<0.15,>=0.13 in c:\\programdata\\anaconda3\\lib\\site-packages (from httpcore==1.*->httpx<1,>=0.23.0->openai<2.0.0,>=1.10.0->langchain-openai==0.0.5) (0.14.0)\n",
      "Requirement already satisfied: jsonpointer>=1.9 in c:\\programdata\\anaconda3\\lib\\site-packages (from jsonpatch<2.0,>=1.33->langchain-core<0.2,>=0.1.16->langchain-openai==0.0.5) (2.1)\n",
      "Requirement already satisfied: annotated-types>=0.4.0 in c:\\programdata\\anaconda3\\lib\\site-packages (from pydantic<3,>=1->langchain-core<0.2,>=0.1.16->langchain-openai==0.0.5) (0.6.0)\n",
      "Requirement already satisfied: pydantic-core==2.20.1 in c:\\programdata\\anaconda3\\lib\\site-packages (from pydantic<3,>=1->langchain-core<0.2,>=0.1.16->langchain-openai==0.0.5) (2.20.1)\n",
      "Requirement already satisfied: charset-normalizer<4,>=2 in c:\\programdata\\anaconda3\\lib\\site-packages (from requests<3,>=2->langchain-core<0.2,>=0.1.16->langchain-openai==0.0.5) (3.3.2)\n",
      "Requirement already satisfied: urllib3<3,>=1.21.1 in c:\\programdata\\anaconda3\\lib\\site-packages (from requests<3,>=2->langchain-core<0.2,>=0.1.16->langchain-openai==0.0.5) (2.2.3)\n",
      "Requirement already satisfied: colorama in c:\\programdata\\anaconda3\\lib\\site-packages (from tqdm>4->openai<2.0.0,>=1.10.0->langchain-openai==0.0.5) (0.4.6)\n",
      "Using cached langchain_openai-0.0.5-py3-none-any.whl (29 kB)\n",
      "Using cached tiktoken-0.5.2-cp312-cp312-win_amd64.whl (785 kB)\n",
      "Installing collected packages: tiktoken, langchain-openai\n",
      "  Attempting uninstall: tiktoken\n",
      "    Found existing installation: tiktoken 0.9.0\n",
      "    Uninstalling tiktoken-0.9.0:\n",
      "      Successfully uninstalled tiktoken-0.9.0\n",
      "  Attempting uninstall: langchain-openai\n",
      "    Found existing installation: langchain-openai 0.1.0\n",
      "    Uninstalling langchain-openai-0.1.0:\n",
      "      Successfully uninstalled langchain-openai-0.1.0\n",
      "Successfully installed langchain-openai-0.0.5 tiktoken-0.5.2\n"
     ]
    }
   ],
   "source": [
    "!pip install langchain==0.1.4\n",
    "!pip install langchain-openai==0.0.5"
   ]
  },
  {
   "cell_type": "markdown",
   "id": "0724889c",
   "metadata": {},
   "source": [
    "<font color='green'>\n",
    "Installing Openai package, which includes the classes that we can use to communicate with Openai services\n",
    "<font>"
   ]
  },
  {
   "cell_type": "code",
   "execution_count": 2,
   "id": "78cddb3e",
   "metadata": {},
   "outputs": [
    {
     "name": "stdout",
     "output_type": "stream",
     "text": [
      "Defaulting to user installation because normal site-packages is not writeable\n",
      "Collecting openai==1.10.0\n",
      "  Using cached openai-1.10.0-py3-none-any.whl.metadata (18 kB)\n",
      "Requirement already satisfied: anyio<5,>=3.5.0 in c:\\programdata\\anaconda3\\lib\\site-packages (from openai==1.10.0) (4.2.0)\n",
      "Requirement already satisfied: distro<2,>=1.7.0 in c:\\programdata\\anaconda3\\lib\\site-packages (from openai==1.10.0) (1.9.0)\n",
      "Requirement already satisfied: httpx<1,>=0.23.0 in c:\\programdata\\anaconda3\\lib\\site-packages (from openai==1.10.0) (0.27.0)\n",
      "Requirement already satisfied: pydantic<3,>=1.9.0 in c:\\programdata\\anaconda3\\lib\\site-packages (from openai==1.10.0) (2.8.2)\n",
      "Requirement already satisfied: sniffio in c:\\programdata\\anaconda3\\lib\\site-packages (from openai==1.10.0) (1.3.0)\n",
      "Requirement already satisfied: tqdm>4 in c:\\programdata\\anaconda3\\lib\\site-packages (from openai==1.10.0) (4.66.5)\n",
      "Requirement already satisfied: typing-extensions<5,>=4.7 in c:\\programdata\\anaconda3\\lib\\site-packages (from openai==1.10.0) (4.11.0)\n",
      "Requirement already satisfied: idna>=2.8 in c:\\programdata\\anaconda3\\lib\\site-packages (from anyio<5,>=3.5.0->openai==1.10.0) (3.7)\n",
      "Requirement already satisfied: certifi in c:\\programdata\\anaconda3\\lib\\site-packages (from httpx<1,>=0.23.0->openai==1.10.0) (2025.4.26)\n",
      "Requirement already satisfied: httpcore==1.* in c:\\programdata\\anaconda3\\lib\\site-packages (from httpx<1,>=0.23.0->openai==1.10.0) (1.0.2)\n",
      "Requirement already satisfied: h11<0.15,>=0.13 in c:\\programdata\\anaconda3\\lib\\site-packages (from httpcore==1.*->httpx<1,>=0.23.0->openai==1.10.0) (0.14.0)\n",
      "Requirement already satisfied: annotated-types>=0.4.0 in c:\\programdata\\anaconda3\\lib\\site-packages (from pydantic<3,>=1.9.0->openai==1.10.0) (0.6.0)\n",
      "Requirement already satisfied: pydantic-core==2.20.1 in c:\\programdata\\anaconda3\\lib\\site-packages (from pydantic<3,>=1.9.0->openai==1.10.0) (2.20.1)\n",
      "Requirement already satisfied: colorama in c:\\programdata\\anaconda3\\lib\\site-packages (from tqdm>4->openai==1.10.0) (0.4.6)\n",
      "Using cached openai-1.10.0-py3-none-any.whl (225 kB)\n",
      "Installing collected packages: openai\n",
      "  Attempting uninstall: openai\n",
      "    Found existing installation: openai 1.14.2\n",
      "    Uninstalling openai-1.14.2:\n",
      "      Successfully uninstalled openai-1.14.2\n",
      "Successfully installed openai-1.10.0\n"
     ]
    },
    {
     "name": "stderr",
     "output_type": "stream",
     "text": [
      "  WARNING: The script openai.exe is installed in 'C:\\Users\\ranes\\AppData\\Roaming\\Python\\Python312\\Scripts' which is not on PATH.\n",
      "  Consider adding this directory to PATH or, if you prefer to suppress this warning, use --no-warn-script-location.\n"
     ]
    }
   ],
   "source": [
    "!pip install openai==1.10.0"
   ]
  },
  {
   "cell_type": "markdown",
   "id": "e2691c0a",
   "metadata": {},
   "source": [
    "## Let's use OpenAI"
   ]
  },
  {
   "cell_type": "code",
   "execution_count": null,
   "id": "97b6053b",
   "metadata": {},
   "outputs": [],
   "source": [
    "import os\n",
    "from dotenv import load_dotenv\n",
    "load_dotenv()\n",
    "api_key = os.getenv(\"OPENAI_API_KEY\")"
   ]
  },
  {
   "cell_type": "code",
   "execution_count": 4,
   "id": "9dd27ba4",
   "metadata": {},
   "outputs": [],
   "source": [
    "from langchain_openai import OpenAIEmbeddings"
   ]
  },
  {
   "cell_type": "markdown",
   "id": "efaf72e5",
   "metadata": {},
   "source": [
    "<font color='green'>\n",
    "Initialize the OpenAIEmbeddings object\n",
    "<font>"
   ]
  },
  {
   "cell_type": "code",
   "execution_count": 5,
   "id": "29fb326d",
   "metadata": {},
   "outputs": [],
   "source": [
    "embeddings = OpenAIEmbeddings()"
   ]
  },
  {
   "cell_type": "markdown",
   "id": "4071ed67",
   "metadata": {},
   "source": [
    "<font color='green'>\n",
    "Let's read our input data and get its embedding representation, so that we use it up for our future tasks\n",
    "<font>"
   ]
  },
  {
   "cell_type": "code",
   "execution_count": 6,
   "id": "e1e84150",
   "metadata": {},
   "outputs": [
    {
     "name": "stdout",
     "output_type": "stream",
     "text": [
      "         Words\n",
      "0     Elephant\n",
      "1         Lion\n",
      "2        Tiger\n",
      "3          Dog\n",
      "4      Cricket\n",
      "5      Footbal\n",
      "6       Tennis\n",
      "7   Basketball\n",
      "8        Apple\n",
      "9       Orange\n",
      "10      Banana\n"
     ]
    }
   ],
   "source": [
    "#install the below if already not installed...\n",
    "#!pip install pandas\n",
    "#!pip install openpyxl\n",
    "\n",
    "import pandas as pd\n",
    "df = pd.read_excel('data.xlsx')\n",
    "print(df)"
   ]
  },
  {
   "cell_type": "code",
   "execution_count": 7,
   "id": "f74e4f24",
   "metadata": {},
   "outputs": [],
   "source": [
    "df['embedding'] = df['Words'].apply(lambda x: embeddings.embed_query(x))\n",
    "df.to_csv('word_embeddings.csv')"
   ]
  },
  {
   "cell_type": "markdown",
   "id": "1ad628b8",
   "metadata": {},
   "source": [
    "<font color='green'>\n",
    "    Let's load the existing file, which contains the embeddings, so that we can save chargers by not hitting the API repeatedly\n",
    "    <font>"
   ]
  },
  {
   "cell_type": "code",
   "execution_count": 8,
   "id": "03337633",
   "metadata": {},
   "outputs": [
    {
     "name": "stdout",
     "output_type": "stream",
     "text": [
      "    Unnamed: 0       Words                                          embedding\n",
      "0            0    Elephant  [-0.018833934305000737, -0.008583207179144979,...\n",
      "1            1        Lion  [-0.0014748649272673302, -0.009976742060418077...\n",
      "2            2       Tiger  [-0.013435241817326568, -0.009651306121962536,...\n",
      "3            3         Dog  [-0.0008876295564298064, -0.015154651094048038...\n",
      "4            4     Cricket  [0.003892941522117755, -0.0072338746328255805,...\n",
      "5            5     Footbal  [-0.011474513216262, -0.008092077284991004, 0....\n",
      "6            6      Tennis  [-0.023049804183726708, 0.0015940368558456123,...\n",
      "7            7  Basketball  [-0.012938675909892713, -0.013289385926366725,...\n",
      "8            8       Apple  [0.01452072229821668, -0.003985678527774288, -...\n",
      "9            9      Orange  [0.020728384163457052, -0.029429515310106256, ...\n",
      "10          10      Banana  [-0.013066130403109374, -0.020126866162426614,...\n"
     ]
    }
   ],
   "source": [
    "new_df = pd.read_csv('word_embeddings.csv')\n",
    "print(new_df)"
   ]
  },
  {
   "cell_type": "markdown",
   "id": "b1fa8a90",
   "metadata": {},
   "source": [
    "<font color='green'>\n",
    "Let's get the embeddings for our text\n",
    "<font>"
   ]
  },
  {
   "cell_type": "code",
   "execution_count": 9,
   "id": "f4058c7c",
   "metadata": {},
   "outputs": [],
   "source": [
    "our_Text = \"Cat\""
   ]
  },
  {
   "cell_type": "code",
   "execution_count": 10,
   "id": "57d96d12",
   "metadata": {},
   "outputs": [],
   "source": [
    "text_embedding = embeddings.embed_query(our_Text)"
   ]
  },
  {
   "cell_type": "code",
   "execution_count": 11,
   "id": "3464758c",
   "metadata": {},
   "outputs": [
    {
     "name": "stdout",
     "output_type": "stream",
     "text": [
      "Our embedding is [-0.008235762179349012, -0.007498231508971352, -0.009963496931232994, -0.024789235476854264, -0.012790698998500619, 0.006682167059785172, -0.0015484736601343667, -0.03785992544118276, -0.014409170050845977, -0.026223323279528577, 0.017181739802682984, 0.046245922995506186, 0.00358521997234709, 0.00422373056053703, -0.032342099766917536, -0.004657371595676727, 0.03941693292677749, 0.005213934176382049, 0.00785333876530253, -0.015583756916362039, -0.02375122986557604, 0.005340270416285076, 0.014900857164431083, -0.012114629566567073, -0.006774358684620694, 0.004350066800440058, 0.012387789281074934, -0.013343847816191143, 0.005633917365494743, 0.0009202064564646777, 0.009861062620369176, -0.01660810468161326, -0.017741718009048314, -0.03930767015856147, -0.029446606606869687, -0.0003254440783355342, 0.011452217049337925, -0.0073548227287039206, 0.02073281515996257, -0.013903825091233868, 0.009478639206322692, 0.009799601847586364, -0.013418966435000958, 0.011937075705570833, -0.0023560017227230194, 0.01048932912554691, -0.0217844795485904, -0.007491402585957851, -0.006187065251862663, 0.012483395134586555, 0.006617292058326261, 0.00684606307475441, -0.005688549215264055, 0.0140677201748805, -0.005019308240682708, 0.005650989905859148, 0.0086250149820703, -0.01210097172054007, 0.013473598750431573, -0.0006666801866589469, 0.012326327576969515, 0.0042476320239149355, -0.006402178887925113, 0.025076053037389127, 0.00792845831543495, -0.0051114993998569265, -0.00475639214352575, -3.644573678663988e-06, -0.0039983737727849805, 0.00395057084602917, 0.041738790965755605, 0.016594447766908865, 0.021565952149513155, -0.009144018719032018, -0.006989471855021841, -0.0003580952011878978, -0.01821974727660642, 0.011493191518741537, 0.0008809397998910694, -0.011103938716020249, 0.03575659293863667, -0.03302499765620328, -0.013268728266058722, 0.009253282418570642, 0.021825454017994014, 0.007423112890161538, -0.004930531310184588, 0.009806430304938562, -0.011998536478353646, 0.009253282418570642, 0.015269622732450566, 0.024092678810218912, -0.013958456475341876, 0.042449006409740565, -0.011540994445497348, 0.020309417276512472, -0.013241412574004718, 0.022180561739986494, -0.0014545750373761211, -0.05769131158749192, 0.004609568668920917, 0.00584220161288239, -0.04834925177276185, -0.009403519656190271, -0.0029774400033792075, -0.0015868866431236247, 0.01689492224214812, 0.0037969186812414867, 0.020760130852016574, -0.0058046418378161786, -0.002743546945444955, 0.053812446062919066, 0.020814764098769794, -0.030320718065823885, 0.0073548227287039206, -0.0036193650530758985, 0.0003047437162759548, -0.028517863763807483, 0.00440128442153327, -0.019735782155442746, 0.019244095973180247, 0.013903825091233868, 0.038433560562252486, 0.004408113344546771, 0.022781512553110225, 0.01760513768613308, -0.010079590019446421, 0.008024064168946571, -0.013637493834078205, 0.01600715386848953, 0.027753016935714515, 0.0036500954394673045, 0.009178163799760827, 0.009362546118109265, -0.00303890077616202, 0.02661940547092467, -0.041028575521770645, -0.0022621032163800993, -0.003223283560171761, -0.06692410490871553, -0.002649648439102035, 0.018888988251187767, -0.02021381142300085, 0.0172500299641406, -0.0024516075762346405, 0.02380586124968405, 0.017345635817652222, 0.0024550220377413906, 0.00915767656505902, 0.0054461198871476, 0.00913035994168241, -0.001096906643876567, 0.030102190666746638, -0.01626665573697039, -0.0046915166764055355, 0.030102190666746638, -0.0008459412202008991, 0.013453111515729766, 4.449514170529341e-05, -0.01391748293726087, 0.001469940230571824, -0.0040700781629186954, 0.017277345656194605, -0.011841469852059212, 0.0021425958994905733, 0.018506564837141283, 0.023081988890994696, 0.0030371936618239703, -0.017359294595001833, 0.0036296084375961497, -0.021456687518651926, 0.018848013781784155, -0.008638672828097303, 0.013186781189896711, -0.010284459572496666, 0.006675338136771671, -0.012339986354319123, -0.007737246142750405, -0.015884232322923904, -0.023327831982125943, -0.015720336307954667, 0.008713792378229725, 0.015460834439473808, 0.027165724899940392, -0.0037217998296010203, 0.007423112890161538, 0.0199406526398156, -0.01871143345886892, -0.004500304969382293, -0.007388967809432729, 0.00961521859791532, 0.025144343198846744, 0.021142554266063058, -0.0240517043408153, -0.6756876343682897, -0.027356936606963634, -0.015283280578477568, -0.007546034435727163, 0.014668671919326836, 0.020965001336389424, 0.0024157553811677826, 0.004377382958155365, 0.0013845778779957806, -0.007300190878934609, -0.01106979363529144, 0.0061529206367951575, 0.007027031164426749, -0.009772285224209754, -0.009458151971620886, -0.009089386403601404, -0.008788910997039538, -0.015815942161466288, -0.020650868083800556, 0.020992317028443428, 0.005217348870719451, 0.004449087348289081, -0.00413495363003891, -0.012940937167442854, 0.006395349499250309, -0.009225966726516637, 0.0113292955037723, -0.027957887420087365, 0.023163935967156705, 0.0213337659730863, -0.014395512204818975, 0.024679972708638247, -0.003981301698081879, -0.01846559036773767, 0.04897752200323001, 0.017345635817652222, 0.0025950163565020717, 0.022235193124094502, 0.008071867095702382, 0.03865208609868452, -0.01862948638270691, -0.018902645165892164, 0.01862948638270691, -0.0014033575326982343, -0.02742522676842125, -0.01610275972200115, 0.0008036868224973897, 0.0015561562567322183, 0.006350961266831901, -0.005364171879662981, 0.007580179516455971, -0.00838600034829125, 0.004886142612104877, -0.00835185526756244, 0.006081216246661442, 0.008795739454391736, 0.02496679026917311, -0.017140767195924587, 0.0033086460291631304, 0.008549896363260487, -0.00607780155232404, 0.00553489681764572, -0.004414942267560272, -0.019612860609877124, -0.0136101781420242, 0.007539205512713662, -0.01752319060997107, 0.0003546807105773158, 0.025554082304947233, 0.010325434041900278, 0.0065046136644502355, 0.002485752656963449, -0.030511929772847127, -0.0014545750373761211, 0.004459330965639984, 0.027520832621932872, 0.0049544327735624935, -0.010837608390187192, -0.00010728984130929551, -0.02024112897770007, -0.006477297506734928, -0.00262916143723088, -0.02521263336030436, -0.01091955639767181, 0.018492906059791675, -0.013214096881950714, -0.023573675073257194, -0.0008450876048242114, 0.015925206792327517, 0.00880256884306654, 0.004858826920050872, 0.03144067261590933, -0.011349782738474106, 0.015378886431989189, -0.014928173787807695, 0.004674444136041131, -0.005835372224207585, 0.0025079467731726527, 0.013985773098718486, -0.034226899282450735, -0.001154953071567955, -0.006053900088946134, 0.00875476591631073, -0.0028067150653964686, 0.01651249882810164, 0.015037437487346317, -0.014327222043361358, 0.01801487679223357, 0.03548343601809663, -0.015515466754904422, 0.009669850913345934, -0.007709930450696401, -0.010325434041900278, 0.0002026289509296384, 0.012660948995582795, -0.030211453434962655, 0.009703995994074743, 0.0045173770440853946, 0.01707247703446697, -0.01720905549473699, -0.01106979363529144, 0.023068330113645088, 0.012756554849094416, -0.004763221066539251, 0.007470915816917348, 0.0002750802763458294, -0.02446144344691579, 0.0013231168723823164, -0.004957847002238592, -0.00835185526756244, 0.0066616802907446685, -0.013774074156993438, 0.008720620835581921, -0.011657086602388168, 0.004196414868483027, 0.006190479946200065, 0.025431160759381607, 0.012893134240687044, 0.017140767195924587, -0.0027845209491872643, -0.019804072316900363, 0.00946498136029569, 0.0029928051965749103, 0.006921182159225527, 0.019626519387226732, 0.0006871671885301016, -0.005995853544839421, -0.024802894254203872, 0.007730417219736904, 0.00019622677739681828, -0.013637493834078205, -0.009328401037380456, 0.024215600355784538, 0.018342668822172045, 0.03504638121994214, -0.024174625886380925, -0.0029245152679479454, -0.016485183136047635, -0.016853949635389723, -0.005995853544839421, 0.0072660457982058006, 0.030484614080793122, -0.004302263873684247, -0.011807324771330403, -0.012626803914853987, -0.022522010684629366, 0.008686475754853113, 0.028654444086722717, -0.029555871237730916, -0.03384447586840425, 0.00027806795926806755, -0.021866428487397626, -0.005261737103137859, 0.01046884282216771, 0.0095332705904307, 0.004636884826636224, 0.01320726749327591, -0.03064851009576236, 0.004858826920050872, 0.009826917539640368, 0.024270231739892546, -0.0052924674895292656, -0.010782976074756577, -0.002752083215627157, -0.0011967806324792891, 0.01424527403587674, 0.04195731650218764, 0.020336734831211692, -0.01570667753060506, 0.016444208666644023, -0.013350676273543341, 0.0038617941483617014, 0.0007955773891073629, 0.008686475754853113, -0.0024686801165990447, -0.019749440932792357, -0.0019735783086765354, 0.01705881825711736, 0.01610275972200115, 0.027111093515832383, -0.0031174340893092367, 0.008788910997039538, 0.007375309963405728, -0.007580179516455971, 0.018766066705622142, -0.037368235533629834, -0.014504775904357598, -0.005910491308678703, 0.026988170107621546, 0.028627128394668713, -0.0016227388381904824, -0.003926669382651265, -0.01681297516598611, -0.010086419408121227, 0.013446282127054962, 0.020664524998504952, -0.007300190878934609, 0.0035510751244489333, -0.002434535035870236, -0.0021494248225040744, -0.011288321034368685, -0.005183203789990642, -0.0030935326259313315, 0.020623552391746555, 0.0037730172178635814, 0.018042192484287574, 0.014682329765353837, 0.03709507861308979, 0.002193813287753134, -0.02556774108229684, -0.026441850678605824, -0.0014801837315074015, 0.005616844825130339, 0.007539205512713662, 0.0027572050243026085, -0.00014436913394599436, 0.025198974582954753, -0.015611072608416043, 0.033817162038995464, 0.014736962080784453, -0.0043466525717639586, 0.03094898457100162, 0.009424006890892078, -0.021415714911893525, 0.009198650103140027, -0.0008980122820478107, 0.022781512553110225, 0.01705881825711736, -0.0031225558979846883, 0.013548717369241388, -0.01416332602839212, 0.00349132146600417, -0.018861672559133763, 0.014873541472377079, 0.004647127978325824, -0.016731026227178883, 0.02148400507335114, 0.010325434041900278, 0.019653835079280736, 0.02588187433488571, 0.017031502565063354, 0.007238730106151797, 0.0010038615782873462, -0.0023133206046426604, 0.012360472657698324, 0.01192341785954383, 0.010687370221244956, -0.01771440231699431, 0.023259541820668327, -0.00017883419674977698, -0.014846225780323076, -0.009983984165934802, 0.013364334119570343, -0.015187674724965947, 0.01745490044851345, 0.01966749199398513, -0.0012736067148731306, -0.005384659114364788, 0.016048128337893142, -0.0007149099502069327, -0.018943619635295776, -0.04498938998515072, 0.02108792288195505, -0.0018506564138649328, -0.010878581928268198, -0.004182756556794721, -0.028299336364730237, -0.015488151062850418, 0.0012189748651038191, 0.012360472657698324, 0.0015800577201101236, 0.016731026227178883, 0.015488151062850418, 0.01625299695962078, 0.010332262499252476, 0.002383317647607675, 0.031222145216832087, -0.01898459410469939, 0.009861062620369176, 0.00785333876530253, -0.0037559449103298287, -0.02500776287593151, -0.006535344050841642, -0.022481036215225753, 0.013801389849047442, -0.009574245059834313, -0.014040404482826495, -0.022877118406621846, -0.0020623552391746554, -0.0031549936315447957, -0.0172500299641406, 0.014313564197334356, -0.021866428487397626, -0.006989471855021841, -0.02056891914499333, -0.01016153802693104, -0.027848622789226136, -0.0059753667757989175, 0.04903215338733802, -0.0006107678265131096, -0.012244380500807502, -0.008358684656237245, -0.03455469131238921, -0.01445014452024959, 0.09281964174624129, 0.005271980720488762, -0.019052884266157005, 0.013617007530699004, 0.001843827490851432, -0.018588511913303296, -0.028927604732553184, -0.006948497851279532, 0.027206699369344004, 0.011185886723504868, -0.009731311686128747, 0.0022108855952868867, 0.016143734191404763, -0.005855859458909391, 0.0005283931568593041, 0.015037437487346317, -0.021907401094156027, -0.002410633572492331, 0.009410349044865075, -0.014846225780323076, 0.00956741567115951, -0.0008199056892774434, 0.015351570739935184, 0.002805007951058419, -0.006706068523163077, -0.007068005168169058, 0.0029330515381301475, 0.03406300513012671, 0.0122512089581597, -0.028135440349761, 0.01102199070853563, 0.01651249882810164, -0.014286248505280352, -0.0037217998296010203, 0.007409454578473232, 0.002849396416307479, -0.003144750247024544, 0.014176984805741729, 0.023860492633792058, -0.02234445775495573, 0.01846559036773767, 0.02500776287593151, -0.016293971429024393, -0.013698955538183623, 0.0077850490695062155, -0.003858379686854951, -0.003653509900974055, 0.018410958983629662, 0.016293971429024393, 0.00326084310240732, 0.03638486316910483, 0.02608674481925856, -0.00844746112107406, 0.006682167059785172, -0.01097418778177982, -0.007047518399128555, 0.020350391745916085, -0.007231901183138296, -0.0017081013071818519, -0.018602170690652904, -0.01671736931247449, -0.013862850621830255, 0.006105117710039347, 0.004701759828095136, -0.0020965000870728123, -0.024447786532211392, 0.004886142612104877, -0.022057640194420868, -0.027616438475444493, -0.00913035994168241, -0.013186781189896711, -0.023218567351264714, -0.02420194344108014, 0.01091955639767181, 0.00730701980194811, 0.011588797372253158, 0.01887532947383816, -0.02215324604793249, -0.0025079467731726527, 0.023587333850606802, -0.014313564197334356, -0.02465265515393903, 0.0016218852810214578, -0.034172267898342726, -0.022358114669660128, 0.0017388316935732582, -0.001874557877242838, -0.009977154777259996, 0.00016720356355112435, 0.0020469898131483004, 0.017932929716071556, -0.003091825511593282, 0.03608438496857515, -0.006648022444717667, -0.006859720920781412, 0.007778220146492714, 0.00416568448209162, -0.0071772688677076805, -0.0014340880355049664, -0.029801714328862167, 0.017441241671163843, -0.024379496370753775, -0.019039225488807397, -0.0009654485370904253, 0.0057090359843045575, 0.002111865280268515, 0.019121174427614622, 0.028408600995591466, -0.002065769700681406, -0.013890167245206865, 0.0021152797417752656, -0.020719158245258176, -0.004735904908823944, -0.011158571031450864, 0.01409503679825711, 0.01752319060997107, -0.024229259133134146, 0.013234584116652522, 0.019257752887884644, -0.011568310137551352, -0.024789235476854264, -0.016130075414055155, 0.020336734831211692, 0.031222145216832087, -0.00717043994469418, -0.00494418915621159, 0.0005770496989918022, 0.006381691653223307, -0.007457257505229043, 0.007388967809432729, 0.005101255782506023, 0.009232795183868835, -0.015160359032911942, -0.04206658299569408, -0.022221536209390106, -0.011759521844574593, -0.011882443390140218, 0.010776146686081773, -0.0014690865569874736, -0.015447176593446806, -0.03859745471457651, 0.004169098710767719, 0.004759806372201849, -0.02435218067869977, -0.02189374417945163, -0.043869437297710485, -0.03127677846358531, -0.0016048127406570534, 0.003981301698081879, 0.02163424231097077, -0.011342953349799302, 0.00913035994168241, -0.00935571672943446, -0.012415104973128938, -0.01636226159048201, -0.02727498766815641, -0.015078411025427323, -0.000457542382102276, 0.03100361781775484, 0.020527946538234934, -0.002207471133780136, 0.0005394902731715691, 0.01547449228550081, -0.0038344782234770456, -0.0076143245971847795, 0.00988837831242318, 0.010038616481365416, 0.008993780550089783, -0.03247868008983277, 0.01029128896117147, 0.013050200866981476, -0.0008006991395751516, -0.002137474090815122, -0.0016073736449947794, -0.019244095973180247, 0.017372951509706226, 0.0072728751868806054, -0.015160359032911942, -4.713604156176274e-05, -0.003974472309407075, 0.013678468303481817, -0.0009449615934269335, 0.014859883626350077, 0.01416332602839212, 0.0016415186093082618, -0.006050485860270035, 0.010762488840054771, 0.0012360472890528976, -0.012012194324380648, 0.004363725112128363, 0.01842461589833406, -0.010502987902896518, 0.006975814008994839, -0.028654444086722717, 0.01011373510017523, -0.036111702523274364, -0.011820982617357405, -0.0007605788094171926, -0.002067476815019455, -0.012339986354319123, 0.0020965000870728123, 0.03745018447243706, 0.0026667207466357875, 0.00875476591631073, -0.0013786025121513043, -0.004261290335603241, 0.0001845961587500814, -0.014586723911842217, 0.005138815557572234, -0.016403236059885622, -0.011001503473833824, -0.01670371053512488, -0.05687183337529094, -0.03206893912108707, -0.005705621755628459, 0.001114832741409996, -0.006962155697306534, 0.010851266236214194, -0.01570667753060506, -0.008406487582993056, -0.014655014073299834, 0.000485285143779107, 0.02879102440963795, -0.024119994502272916, 0.03064851009576236, 0.03029340237376988, -0.015693020615900662, -0.01059859375640814, 0.011390756276555112, -0.014750619926811455, -0.04662834640955267, 0.006374862730209806, 0.0013657981068780011, -0.008836713923795349, 0.016020812645839138, -0.0002121255165827405, 0.00666850921375817, -0.014258931881903742, -0.029747082944754158, 0.024024388648761295, 0.023122961497753093, -0.006282671105374284, -0.025950164496343325, 0.011090280869993247, -0.01325507042003172, 0.01781000817050593, -0.012237551112132698, -0.007068005168169058, -0.0363302280597064, -0.00639193527057421, -0.01923043719583064, 0.012442420665182943, -0.021115238574009054, 0.014709645457407841, 0.0032659646782521195, -0.0032881590272919757, 0.016444208666644023, 0.012223893266105696, -0.005097841553829924, -0.016908581019497732, -0.027179381814644788, 0.015269622732450566, -0.011691231683116976, 0.030839721802785602, 0.017181739802682984, 0.0017430998286643593, -0.014695987611380839, -0.0013777488385669538, -0.019216780281126243, 0.03206893912108707, -0.0009773993269870408, -0.009451322582946082, 0.009478639206322692, -0.015925206792327517, 0.010393723272035289, -0.020992317028443428, -0.01656713207485486, 0.004889557306442279, -0.01942164890285388, -0.03690386690606655, 0.01626665573697039, 0.010523474206275718, -0.013036543020954475, 0.0018933376483606175, -0.014914515010458086, -0.015693020615900662, -0.00507394009045202, -0.018137798337799195, -0.01771440231699431, -0.009902036158450181, -0.012162432493322883, -0.002472094578105795, 0.016881265327443728, 0.0021443030138286225, 0.010024958635338414, -0.006016340779541227, -0.001183976227205986, 0.034226899282450735, -0.011568310137551352, 0.027452542460475255, -0.02461168254718063, 0.010612251602435141, -0.02148400507335114, -0.007723588296723403, 0.005562212975361028, 0.006999715472372744, 0.011609283675632357, -0.018288037438064036, -0.007914800469407948, 0.0004451648136211481, -0.005193447407341545, 0.00340254453550605, -0.011616113064307163, 0.008317710186833631, 0.0013709199155534527, 0.0049544327735624935, 0.011814154160005209, -0.011773179690601595, -0.015064753179400321, 0.01745490044851345, -0.008829884535120545, 0.006801674842336001, 0.002893784648725887, -0.0052890532608531665, 0.007156782098667178, -0.01908019995821101, 0.020527946538234934, 0.01574765200000867, -0.008242591568023818, -0.01427259065925335, -0.014736962080784453, 0.014286248505280352, -0.00015407910344326838, -0.03646680838262163, -0.022672247922248992, -0.03548343601809663, -0.017017843787713746, 0.021224503204870283, -0.015419860901392801, -0.007716759373709902, 0.005627088442481242, 0.0086250149820703, -0.005435876269796697, 0.0073684810403922265, -0.016649079151016873, -0.02395609848730368, -0.007846510307950331, 0.007907971080733144, -0.027998861889490977, -0.007935286772787148, -0.022986383037483075, 0.023232226128614326, 0.009540099979105505, -0.03720434138130581, -0.011575138594903549, 0.008652330674124305, -0.026796958400598304, 0.0014229908609850383, -0.0020794275467084077, 0.009772285224209754, 0.0024959960414837005, -0.0167720006965825, 0.015733995085304275, 0.00607780155232404, -0.006610462669651456, 0.014559408219788213, -0.02103329149784704, -0.009799601847586364, 0.012128287412594075, 0.005050038627074115, 0.024393155148103383, -0.012524368672667562, -0.012244380500807502, -0.02451607669366901, 0.007546034435727163, 0.016867606550094116, 0.00503296608670971, 0.015228649194369559, -0.0037183853680942697, -0.006033413319905631, 0.00303890077616202, 0.007942116161461952, 0.018192431584552415, -0.00011449229744765495, 0.013985773098718486, 0.003247185023549666, -0.012695093144988998, 0.01242876281915594, -0.010673712375217954, 0.0022040566722733856, -0.004998821005980901, -0.008119670022458192, -0.007846510307950331, 0.0035886344338538403, -0.012121458023919271, 0.0021084508187617645, -0.0029706108475350546, -0.047966828358715366, -0.019640176301931125, 0.013876508467857257, 0.0016483476487370889, 0.02163424231097077, -0.017673427847590698, -0.01570667753060506, -0.011629770910334163, 0.016184706798163164, -0.017687084762295094, -0.01979041540219597, 0.026796958400598304, 0.014409170050845977, 0.02625063897158258, -0.003429860460390706, -0.005732937447682463, -0.03507369504935093, -0.010509816360248716, -0.004524206432760199, -0.007955774007488954, -0.002055526083330503, 0.006176822100173063, 0.008003576934244765, -0.02547213522878522, 0.0020401608901347997, -0.006122190250403751, -0.02250835376992497, 0.00529929687820407, -0.007409454578473232, -0.005674891369237053, -0.0013803097429046795, -0.007129465940951871, 0.01580228338411668, 0.002202349557935336, -0.001006422482625072, -0.004811023993295062, 0.006169993177159562, 0.012531198061342366, -0.0008660013852798786, 0.21951106946500518, -0.008611357136043298, 0.008747936527635926, 0.031030933509808845, 0.011431729814636117, -0.026728668239140687, 0.030129506358800642, 0.007894313234706142, 0.010523474206275718, 0.017372951509706226, -0.0019257753819207249, -0.0047734642182288515, -0.002892077534387838, 0.009902036158450181, 0.003687654981702864, 0.009253282418570642, -0.020159180038892843, -0.007559692747415468, -0.02416096897167653, -0.022385430361714132, 0.0240517043408153, 0.012893134240687044, -0.019954309554519992, 0.008392829736966053, 0.03881598397629897, 0.021907401094156027, -0.029255394899846444, -0.005261737103137859, 0.008905004085252965, 0.002967196386028304, -0.013248241962679524, -0.011322466115097496, -0.0064158367339521155, -0.00794894461881415, 0.0005232714063915154, -0.010591764367733335, -0.015597414762389041, 0.021579610926862763, 0.005039795009723211, 0.01356237521526839, -0.03231478221221832, 0.006289500494049088, -0.010407382049384897, -0.0072660457982058006, -0.013098003793737286, 0.03190504496876304, -0.016553473297505252, 8.422866193428028e-06, 0.014504775904357598, 0.010011299857988805, -0.008502093436504677, 0.020350391745916085, 0.02336880645152956, 0.016676394843070878, -0.012223893266105696, 0.007539205512713662, 0.03160456676823336, 0.0035066866591998733, -0.003011584851277364, 0.0158978892376283, -0.0007998455241984639, 0.02380586124968405, -0.020090889877435226, 0.021470346296001534, -0.014982805171915702, 0.00961521859791532, -0.007716759373709902, 0.006910938541874624, 0.009403519656190271, -0.006941668928266031, 0.002342343876696017, -0.015133043340857938, -0.0010081297133784472, 0.008420145429020058, -0.013275557654733526, -0.030211453434962655, 0.022125930355878485, 0.01976309784749675, 0.020254785892404464, 0.014832567934296074, -0.003779846373707734, 0.004800780375944159, -0.012708751922338606, -0.006931425310915128, -0.010141050792229234, -0.03433616577595718, 0.015078411025427323, 0.017441241671163843, 0.005227592488070354, 0.013896995702559064, -0.02416096897167653, -0.011445388591985727, 0.01785098077726433, -0.01867046085211052, 0.03212357050519508, 0.024283890517242154, -0.016963212403605737, 0.02727498766815641, -0.008700133600880115, -0.0019718709615078344, -0.0022143002896242887, -0.0011634892253348313, 0.037013129674282566, 0.005193447407341545, -0.00797626124219076, 0.011704889529143978, -0.009519612744403699, -0.0007178976331291708, 0.0006483273105410055, 0.007607495674171278, -0.0185748549985989, -0.009943010627853795, -0.0062382828729558755, -0.009676679370698132, 0.016471524358698024, 0.01312531948579129, -0.010222998799713853, -0.0016056664142414042, 0.003759359371836579, 0.002163082668531076, 0.0035476606629421827, -0.02506239612268473, 0.010612251602435141, 0.008461118967101063, -0.008420145429020058, -0.01892996272059138, -0.01898459410469939, 0.011404414122582114, -0.02369659661882282, -0.0402910462483769, -0.00703386008744025, -0.005084183707802923, -0.00730701980194811, -0.0010789805463431383, -0.01304337240962928, 0.012927279321415852, 0.00466761521302763, -0.0363302280597064, -0.01419064265176873, 0.016143734191404763, 0.00748457366294435, -0.01434087988938836, 0.015993495091139922, 0.017263688741490212, -0.008693305143527917, -0.015993495091139922, 0.014573066065815215, 0.017700743539644702, -0.01867046085211052, -0.03378984448429624, -0.036357545614405615, 0.010776146686081773, -0.005459778198835905, -0.01615739110610916, 0.019517254756365503, -0.015529124600931424, -0.02148400507335114, -0.014176984805741729, 0.013186781189896711, -0.008864029615849353, -0.0408373638147474, -0.005732937447682463, 0.019626519387226732, -0.008939148234659168, -0.00830405234080663, -0.0027640339473161096, -0.17820934074798492, 0.0013717734727224774, 0.0140677201748805, -0.020090889877435226, -0.002116987088943967, 0.01574765200000867, 0.027056460269079163, -0.009861062620369176, -0.007061176245155557, 0.0008237469875763691, 0.03482785195821968, -0.005528067894632219, -0.04662834640955267, -0.008187959252593201, 0.012633632372206185, -0.026305272218335805, 0.004872484766077875, -0.015214991348342557, 0.007054347322142056, 0.010878581928268198, 0.044716229339320256, -0.030867037494839607, 0.01625299695962078, -0.025963821411047718, 0.005524653200294817, 0.017687084762295094, -0.003267672025420821, -0.010810291766810582, -0.00516954594396364, -0.021210844427520675, -0.025745294011970475, 0.0001297508178251036, 0.020172838816242454, 0.008140156325837391, 0.011868785544113216, 0.013104833182412092, 0.00790114169205834, -0.006651436673393765, -0.005336856187608977, 0.012756554849094416, 0.014600381757869218, 0.040782732430639394, 0.022330798977606123, 0.0010960529702922165, -0.014504775904357598, 0.022262508816148507, 0.01785098077726433, 0.010803463309458384, 0.027507173844583264, -0.026114060511312563, 0.004626641209285321, -0.008461118967101063, 0.015733995085304275, 0.010687370221244956, 0.03433616577595718, 0.02446144344691579, 0.0036739969028452097, -0.009144018719032018, -0.0026940366715204433, -0.007477744739930849, -0.021716189387132784, -0.02738425229901764, -0.005565627204037127, -0.014709645457407841, -0.002192105940584433, -0.016239340044916385, -0.011971220786299641, 0.010660054529190952, -0.03750481585654507, 0.00038839883809862314, -0.019257752887884644, 0.01419064265176873, 0.03231478221221832, -0.02375122986557604, 0.010359579122629088, 0.009055241322872595, -0.02123816011957468, 0.01333701842751634, -0.015884232322923904, -0.011438559203310923, -0.012326327576969515, 0.047065404932997594, -0.015556440292985429, -0.029118816439576426, 0.0017473679637554603, 0.03236941359632633, 0.01011373510017523, -0.0009193528410879901, 0.005046623932736712, 0.0011404414355412765, 0.02838128530353746, -0.019448964594907886, -0.014108694644284112, -0.030921668878947615, 0.0240107317340569, 0.018438274675683666, 0.013241412574004718, 0.016676394843070878, -0.0010311776195873277, -0.014409170050845977, -0.0016398113785548868, -0.010455184976140708, -0.0029928051965749103, 0.0031823095564294515, 0.025239949052358365, 0.0035476606629421827, 0.025868215557536097, 0.016881265327443728, 0.027356936606963634, -0.006671923908095572, -0.006371448035872404, 0.004575423588192108, 0.020500628983535715, 0.012940937167442854, 0.007832852461923329, -0.008659160062799109, -0.010434697741438901, -0.00025437988518241846, 0.000888622396488921, -0.020405023130024093, 0.04231242608682533, 0.015105726717481328, -0.0023064916816291593, 0.011206373958206674, -0.023655624012064422, -0.010994675016481626, -0.10762489212583813, -0.0371497099971978, -0.010079590019446421, 0.03887061536040698, 0.008686475754853113, -0.002473801925274496, -0.0029245152679479454, 0.018397300206280054, -0.018943619635295776, 0.02999292603588541, -0.006357790189845402, -0.021565952149513155, 0.0018865086089317907, -0.00308328924141108, 0.011042477943237436, 0.00844746112107406, 0.006552416591206046, -0.01831535313011804, -0.01424527403587674, -0.0035647329704759354, 0.001050810947874132, 0.001132758838943425, 0.0013034835440955122, -0.004445672653951679, -0.006040242242919132, 0.0043432378774265566, -0.0481034086816306, 0.03070314147987037, 0.03466395780589566, -0.0034776633871465164, 0.014545750373761211, -0.030867037494839607, 0.008645502216772107, -0.025185317668250357, -0.008809398231741344, 0.020596234837047336, -0.004397869727195868, 0.001910410072309696, 0.032178201889303086, -0.015092068871454326, 0.012811186233202425, 0.007313848724961611, -0.0077918784581810195, -0.014463802366276592, 0.008850371769822351, -0.00571245067864196, 0.0015604243918233194, 0.02697451319291715, 0.0040905653976205025, -0.022617616538140987, -0.03253331147394078, -0.0067504572212427885, -0.01641689297459002, 0.005910491308678703, 0.043295798451350336, -0.02254932637668337, 0.0046881019820681335, 0.032560625303349564, 0.0054631924275120045, 0.025950164496343325, -0.00507394009045202, -0.021866428487397626, 0.02024112897770007, 0.036139016352683156, 0.019025568574103, 0.013261899808706524, -0.017222714272086596, -0.017946586630775953, -0.0018455347216048072, -0.020486972068831318, 0.004496890275044891, 0.019817731094249974, -0.02982903002091617, 0.03884329780570776, -0.018069508176341578, 0.02067818377585456, -0.019954309554519992, 0.007866997542652137, 0.01207365509716346, -0.030457298388739118, -0.010011299857988805, -0.015679361838551054, 0.018752407928272534, -0.014136010336338116, 0.02239908913906374, 0.0015126214650675088, -0.0016321287819570352, 0.016853949635389723, 0.005012479317669207, -0.01656713207485486, 0.010946872089725815, -0.006842648380417008, 0.02003625849332722, -0.034582008867088426, 0.011943904162923031, 0.00926011087592284, 0.007996747545569961, -0.0017379781364042334, 0.004585667205543011, 0.018329010044822437, 0.009048412865520397, -0.006245111795969377, -0.09134457574887292, 0.01445014452024959, -0.016471524358698024, 0.007115808094924869, 0.014736962080784453, -0.0034076663441815016, 0.00011694646348350547, -0.026755985793839906, -0.01651249882810164, -0.0028801268026988854, -0.0235600181585528, 0.01115174164277606, -0.006070972629310539, 0.008345026810210243, -0.0029996341195884114, -0.015884232322923904, 0.005408560577742693, 0.003049144393512923, 0.0015203040616653604, 0.012647290218233187, -0.0012608024260151534, -0.002316735066149411, 0.02309564580569909, -0.013801389849047442, -0.01740026720176023, 0.002716231020560299, -0.012360472657698324, 0.005381244420027386, -0.017891955246667944, -0.00807869555305458, 0.019162147034373023, -0.02148400507335114, 0.024379496370753775, 0.03531953814048218, -0.004387626575506268, -0.022057640194420868, -0.017878296469318336, 0.0024601438464168426, -0.005767082528411272, 0.015570098139012431, -0.0029262223822859946, -0.020527946538234934, 0.01255851375339637, -0.019216780281126243, 0.010141050792229234, -0.0007422259332992513, -0.00961521859791532, 0.0072797041098941065, 0.027848622789226136, 0.01621202435286238, 0.020787446544070578, 0.01278387054114842, -0.013179951801221905, 0.002439656844545688, -0.029173447823684435, -0.03411763651423472, 0.012019023713055452, -0.0037559449103298287, -0.004288606027657245, -0.02768472863690211, -0.002146010360997324, 0.03922572121975425, 0.00915767656505902, -0.0032266980216785115, 0.00395057084602917, 0.011363440584501108, -0.0007110686519080069, -0.03165920187763179, 0.0035818055108403396, -0.03739555308832905, -0.015378886431989189, -0.012572171599423372, 0.013999430944745489, 0.0019343115356876012, 0.009383033352811071, 0.010168367415605846, -0.015570098139012431, -0.014286248505280352, -0.012749725460419612, 0.03212357050519508, -0.017113449641225367, -0.009232795183868835, -0.008024064168946571, 0.009929351850504186, 0.022330798977606123, 0.0005800373819140404, -0.010530303594950522, 0.0062382828729558755, 0.007204585025422989, 0.006743628298229287, -0.000596256248694094, 0.018233404191310816, 0.004469574117329584, -0.023833176941738053, 0.0052036910246924485, 0.004322751108386053, -0.01416332602839212, 0.004015446313149385, 0.00010184799235120684, 0.037532133411244284, 0.006917767464888125, -0.006511442587463737, -0.02843591668764547, 0.012619974526179183, -0.00966302152467113, 0.012387789281074934, -0.02732962091490963, -0.016867606550094116, -0.021415714911893525, 0.02380586124968405, 0.019271411665234252, -0.007546034435727163, 0.005521238971618718, 0.013828705541101447, -0.004411528038884173, 0.020432340684723313, -0.00612560447907985, -0.018547539306544895, -0.017017843787713746, 0.014832567934296074, 0.012954595013469856, 0.010393723272035289, 0.01716808288797859, -0.008891345307903357, 0.012162432493322883, 0.005565627204037127, 0.038734035037491746, -0.026441850678605824, -0.009301085345326452, 0.008160643560539199, -0.016949555488901345, -0.025895533112235317, -0.018178772807202807, -0.01312531948579129, -0.01775537492375271, -0.008986951161414979, 0.013070688101683284, 0.014586723911842217, -0.024434127754861784, 0.03504638121994214, 0.0046915166764055355, 0.01852022175184568, 0.00522076309939555, -0.028463232379699475, -0.0061529206367951575, 0.03572927910922788, 0.017905614024017552, -0.017181739802682984, 0.01443648574289998, 0.018738751013568138, -0.012824844079229427, -0.011411243511256918, -0.012387789281074934, -0.021811795240644406, -0.006634364133029361, -0.013289215500760529, 0.0037832608352144845, -0.004937360233198089, 0.0042544609469284365, 0.024953131491823502, 0.00825624941405082, 0.01883435686707976, -0.0017439535022487098, -0.02645550945595543, -0.012387789281074934, 0.03515564398815815, -0.001461403960389622, -0.014463802366276592, -0.008584041443989296, 0.009041583476845593, 0.012592658834125178, -0.029173447823684435, -0.002975732656210506, 0.024365837593404167, -0.015815942161466288, 0.004302263873684247, -0.016526157605451248, -0.003349619800074788, 0.0009125238598668261, -0.017181739802682984, 0.006972399314657437, -0.002274053948069052, -0.018492906059791675, 0.008235762179349012, 0.019981627109219212, -0.017536847524675464, -0.014545750373761211, -0.011322466115097496]\n"
     ]
    }
   ],
   "source": [
    "print (f\"Our embedding is {text_embedding}\")"
   ]
  },
  {
   "cell_type": "markdown",
   "id": "996b7d6f",
   "metadata": {},
   "source": [
    "<font color='green'>\n",
    "    We can determine how similar a word is to other words in our dataframe after we have a vector representing that word.\n",
    "    <br>\n",
    "By computing the cosine similarity of the word vector for our search term to each word embedding in our dataframe.\n",
    "    <font>"
   ]
  },
  {
   "cell_type": "code",
   "execution_count": 12,
   "id": "bbee3c4c",
   "metadata": {},
   "outputs": [
    {
     "data": {
      "text/html": [
       "<div>\n",
       "<style scoped>\n",
       "    .dataframe tbody tr th:only-of-type {\n",
       "        vertical-align: middle;\n",
       "    }\n",
       "\n",
       "    .dataframe tbody tr th {\n",
       "        vertical-align: top;\n",
       "    }\n",
       "\n",
       "    .dataframe thead th {\n",
       "        text-align: right;\n",
       "    }\n",
       "</style>\n",
       "<table border=\"1\" class=\"dataframe\">\n",
       "  <thead>\n",
       "    <tr style=\"text-align: right;\">\n",
       "      <th></th>\n",
       "      <th>Words</th>\n",
       "      <th>embedding</th>\n",
       "      <th>similarity score</th>\n",
       "    </tr>\n",
       "  </thead>\n",
       "  <tbody>\n",
       "    <tr>\n",
       "      <th>0</th>\n",
       "      <td>Elephant</td>\n",
       "      <td>[-0.018833934305000737, -0.008583207179144979,...</td>\n",
       "      <td>0.819499</td>\n",
       "    </tr>\n",
       "    <tr>\n",
       "      <th>1</th>\n",
       "      <td>Lion</td>\n",
       "      <td>[-0.0014748649272673302, -0.009976742060418077...</td>\n",
       "      <td>0.839910</td>\n",
       "    </tr>\n",
       "    <tr>\n",
       "      <th>2</th>\n",
       "      <td>Tiger</td>\n",
       "      <td>[-0.013435241817326568, -0.009651306121962536,...</td>\n",
       "      <td>0.846924</td>\n",
       "    </tr>\n",
       "    <tr>\n",
       "      <th>3</th>\n",
       "      <td>Dog</td>\n",
       "      <td>[-0.0008876295564298064, -0.015154651094048038...</td>\n",
       "      <td>0.878248</td>\n",
       "    </tr>\n",
       "    <tr>\n",
       "      <th>4</th>\n",
       "      <td>Cricket</td>\n",
       "      <td>[0.003892941522117755, -0.0072338746328255805,...</td>\n",
       "      <td>0.795419</td>\n",
       "    </tr>\n",
       "    <tr>\n",
       "      <th>5</th>\n",
       "      <td>Footbal</td>\n",
       "      <td>[-0.011474513216262, -0.008092077284991004, 0....</td>\n",
       "      <td>0.779953</td>\n",
       "    </tr>\n",
       "    <tr>\n",
       "      <th>6</th>\n",
       "      <td>Tennis</td>\n",
       "      <td>[-0.023049804183726708, 0.0015940368558456123,...</td>\n",
       "      <td>0.784874</td>\n",
       "    </tr>\n",
       "    <tr>\n",
       "      <th>7</th>\n",
       "      <td>Basketball</td>\n",
       "      <td>[-0.012938675909892713, -0.013289385926366725,...</td>\n",
       "      <td>0.784836</td>\n",
       "    </tr>\n",
       "    <tr>\n",
       "      <th>8</th>\n",
       "      <td>Apple</td>\n",
       "      <td>[0.01452072229821668, -0.003985678527774288, -...</td>\n",
       "      <td>0.833684</td>\n",
       "    </tr>\n",
       "    <tr>\n",
       "      <th>9</th>\n",
       "      <td>Orange</td>\n",
       "      <td>[0.020728384163457052, -0.029429515310106256, ...</td>\n",
       "      <td>0.811837</td>\n",
       "    </tr>\n",
       "    <tr>\n",
       "      <th>10</th>\n",
       "      <td>Banana</td>\n",
       "      <td>[-0.013066130403109374, -0.020126866162426614,...</td>\n",
       "      <td>0.806726</td>\n",
       "    </tr>\n",
       "  </tbody>\n",
       "</table>\n",
       "</div>"
      ],
      "text/plain": [
       "         Words                                          embedding  \\\n",
       "0     Elephant  [-0.018833934305000737, -0.008583207179144979,...   \n",
       "1         Lion  [-0.0014748649272673302, -0.009976742060418077...   \n",
       "2        Tiger  [-0.013435241817326568, -0.009651306121962536,...   \n",
       "3          Dog  [-0.0008876295564298064, -0.015154651094048038...   \n",
       "4      Cricket  [0.003892941522117755, -0.0072338746328255805,...   \n",
       "5      Footbal  [-0.011474513216262, -0.008092077284991004, 0....   \n",
       "6       Tennis  [-0.023049804183726708, 0.0015940368558456123,...   \n",
       "7   Basketball  [-0.012938675909892713, -0.013289385926366725,...   \n",
       "8        Apple  [0.01452072229821668, -0.003985678527774288, -...   \n",
       "9       Orange  [0.020728384163457052, -0.029429515310106256, ...   \n",
       "10      Banana  [-0.013066130403109374, -0.020126866162426614,...   \n",
       "\n",
       "    similarity score  \n",
       "0           0.819499  \n",
       "1           0.839910  \n",
       "2           0.846924  \n",
       "3           0.878248  \n",
       "4           0.795419  \n",
       "5           0.779953  \n",
       "6           0.784874  \n",
       "7           0.784836  \n",
       "8           0.833684  \n",
       "9           0.811837  \n",
       "10          0.806726  "
      ]
     },
     "execution_count": 12,
     "metadata": {},
     "output_type": "execute_result"
    }
   ],
   "source": [
    "# embeddings_utils class has been remove by OpenAi from 1.1.version, so we will use the code to find the cosine similarity :)\n",
    "\n",
    "#from openai.embeddings_utils import cosine_similarity\n",
    "\n",
    "\n",
    "import numpy as np\n",
    "#Creating a function which will help us with finding the cosine_similarity score\n",
    "def cosine_similarity(a, b):\n",
    "    return np.dot(a, b) / (np.linalg.norm(a) * np.linalg.norm(b))\n",
    "\n",
    "df[\"similarity score\"] = df['embedding'].apply(lambda x: cosine_similarity(x, text_embedding))\n",
    "\n",
    "df"
   ]
  },
  {
   "cell_type": "markdown",
   "id": "5c8afa78",
   "metadata": {},
   "source": [
    "<font color='green'>\n",
    "    Sorting by similarity values in dataframe reveals Dog, Tiger, and Lion are closest to searched term, such as Cat.\n",
    "    <font>"
   ]
  },
  {
   "cell_type": "code",
   "execution_count": 13,
   "id": "52c059af",
   "metadata": {},
   "outputs": [
    {
     "data": {
      "text/html": [
       "<div>\n",
       "<style scoped>\n",
       "    .dataframe tbody tr th:only-of-type {\n",
       "        vertical-align: middle;\n",
       "    }\n",
       "\n",
       "    .dataframe tbody tr th {\n",
       "        vertical-align: top;\n",
       "    }\n",
       "\n",
       "    .dataframe thead th {\n",
       "        text-align: right;\n",
       "    }\n",
       "</style>\n",
       "<table border=\"1\" class=\"dataframe\">\n",
       "  <thead>\n",
       "    <tr style=\"text-align: right;\">\n",
       "      <th></th>\n",
       "      <th>Words</th>\n",
       "      <th>embedding</th>\n",
       "      <th>similarity score</th>\n",
       "    </tr>\n",
       "  </thead>\n",
       "  <tbody>\n",
       "    <tr>\n",
       "      <th>3</th>\n",
       "      <td>Dog</td>\n",
       "      <td>[-0.0008876295564298064, -0.015154651094048038...</td>\n",
       "      <td>0.878248</td>\n",
       "    </tr>\n",
       "    <tr>\n",
       "      <th>2</th>\n",
       "      <td>Tiger</td>\n",
       "      <td>[-0.013435241817326568, -0.009651306121962536,...</td>\n",
       "      <td>0.846924</td>\n",
       "    </tr>\n",
       "    <tr>\n",
       "      <th>1</th>\n",
       "      <td>Lion</td>\n",
       "      <td>[-0.0014748649272673302, -0.009976742060418077...</td>\n",
       "      <td>0.839910</td>\n",
       "    </tr>\n",
       "    <tr>\n",
       "      <th>8</th>\n",
       "      <td>Apple</td>\n",
       "      <td>[0.01452072229821668, -0.003985678527774288, -...</td>\n",
       "      <td>0.833684</td>\n",
       "    </tr>\n",
       "    <tr>\n",
       "      <th>0</th>\n",
       "      <td>Elephant</td>\n",
       "      <td>[-0.018833934305000737, -0.008583207179144979,...</td>\n",
       "      <td>0.819499</td>\n",
       "    </tr>\n",
       "    <tr>\n",
       "      <th>9</th>\n",
       "      <td>Orange</td>\n",
       "      <td>[0.020728384163457052, -0.029429515310106256, ...</td>\n",
       "      <td>0.811837</td>\n",
       "    </tr>\n",
       "    <tr>\n",
       "      <th>10</th>\n",
       "      <td>Banana</td>\n",
       "      <td>[-0.013066130403109374, -0.020126866162426614,...</td>\n",
       "      <td>0.806726</td>\n",
       "    </tr>\n",
       "    <tr>\n",
       "      <th>4</th>\n",
       "      <td>Cricket</td>\n",
       "      <td>[0.003892941522117755, -0.0072338746328255805,...</td>\n",
       "      <td>0.795419</td>\n",
       "    </tr>\n",
       "    <tr>\n",
       "      <th>6</th>\n",
       "      <td>Tennis</td>\n",
       "      <td>[-0.023049804183726708, 0.0015940368558456123,...</td>\n",
       "      <td>0.784874</td>\n",
       "    </tr>\n",
       "    <tr>\n",
       "      <th>7</th>\n",
       "      <td>Basketball</td>\n",
       "      <td>[-0.012938675909892713, -0.013289385926366725,...</td>\n",
       "      <td>0.784836</td>\n",
       "    </tr>\n",
       "  </tbody>\n",
       "</table>\n",
       "</div>"
      ],
      "text/plain": [
       "         Words                                          embedding  \\\n",
       "3          Dog  [-0.0008876295564298064, -0.015154651094048038...   \n",
       "2        Tiger  [-0.013435241817326568, -0.009651306121962536,...   \n",
       "1         Lion  [-0.0014748649272673302, -0.009976742060418077...   \n",
       "8        Apple  [0.01452072229821668, -0.003985678527774288, -...   \n",
       "0     Elephant  [-0.018833934305000737, -0.008583207179144979,...   \n",
       "9       Orange  [0.020728384163457052, -0.029429515310106256, ...   \n",
       "10      Banana  [-0.013066130403109374, -0.020126866162426614,...   \n",
       "4      Cricket  [0.003892941522117755, -0.0072338746328255805,...   \n",
       "6       Tennis  [-0.023049804183726708, 0.0015940368558456123,...   \n",
       "7   Basketball  [-0.012938675909892713, -0.013289385926366725,...   \n",
       "\n",
       "    similarity score  \n",
       "3           0.878248  \n",
       "2           0.846924  \n",
       "1           0.839910  \n",
       "8           0.833684  \n",
       "0           0.819499  \n",
       "9           0.811837  \n",
       "10          0.806726  \n",
       "4           0.795419  \n",
       "6           0.784874  \n",
       "7           0.784836  "
      ]
     },
     "execution_count": 13,
     "metadata": {},
     "output_type": "execute_result"
    }
   ],
   "source": [
    "df.sort_values(\"similarity score\", ascending=False).head(10)"
   ]
  }
 ],
 "metadata": {
  "kernelspec": {
   "display_name": "Python 3 (ipykernel)",
   "language": "python",
   "name": "python3"
  },
  "language_info": {
   "codemirror_mode": {
    "name": "ipython",
    "version": 3
   },
   "file_extension": ".py",
   "mimetype": "text/x-python",
   "name": "python",
   "nbconvert_exporter": "python",
   "pygments_lexer": "ipython3",
   "version": "3.12.7"
  }
 },
 "nbformat": 4,
 "nbformat_minor": 5
}
