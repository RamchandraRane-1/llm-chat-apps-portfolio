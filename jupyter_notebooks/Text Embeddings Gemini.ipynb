{
 "cells": [
  {
   "cell_type": "code",
   "execution_count": 30,
   "id": "adfbbddf-c2d3-47e0-a757-26fdf4a29acc",
   "metadata": {},
   "outputs": [
    {
     "name": "stdout",
     "output_type": "stream",
     "text": [
      "Defaulting to user installation because normal site-packages is not writeable\n",
      "Requirement already satisfied: langchain==0.3.0 in c:\\users\\ranes\\appdata\\roaming\\python\\python312\\site-packages (0.3.0)\n",
      "Requirement already satisfied: PyYAML>=5.3 in c:\\programdata\\anaconda3\\lib\\site-packages (from langchain==0.3.0) (6.0.1)\n",
      "Requirement already satisfied: SQLAlchemy<3,>=1.4 in c:\\programdata\\anaconda3\\lib\\site-packages (from langchain==0.3.0) (2.0.34)\n",
      "Requirement already satisfied: aiohttp<4.0.0,>=3.8.3 in c:\\programdata\\anaconda3\\lib\\site-packages (from langchain==0.3.0) (3.10.5)\n",
      "Requirement already satisfied: langchain-core<0.4.0,>=0.3.0 in c:\\users\\ranes\\appdata\\roaming\\python\\python312\\site-packages (from langchain==0.3.0) (0.3.63)\n",
      "Requirement already satisfied: langchain-text-splitters<0.4.0,>=0.3.0 in c:\\users\\ranes\\appdata\\roaming\\python\\python312\\site-packages (from langchain==0.3.0) (0.3.8)\n",
      "Requirement already satisfied: langsmith<0.2.0,>=0.1.17 in c:\\users\\ranes\\appdata\\roaming\\python\\python312\\site-packages (from langchain==0.3.0) (0.1.147)\n",
      "Requirement already satisfied: numpy<2.0.0,>=1.26.0 in c:\\programdata\\anaconda3\\lib\\site-packages (from langchain==0.3.0) (1.26.4)\n",
      "Requirement already satisfied: pydantic<3.0.0,>=2.7.4 in c:\\programdata\\anaconda3\\lib\\site-packages (from langchain==0.3.0) (2.8.2)\n",
      "Requirement already satisfied: requests<3,>=2 in c:\\programdata\\anaconda3\\lib\\site-packages (from langchain==0.3.0) (2.32.3)\n",
      "Requirement already satisfied: tenacity!=8.4.0,<9.0.0,>=8.1.0 in c:\\programdata\\anaconda3\\lib\\site-packages (from langchain==0.3.0) (8.2.3)\n",
      "Requirement already satisfied: aiohappyeyeballs>=2.3.0 in c:\\programdata\\anaconda3\\lib\\site-packages (from aiohttp<4.0.0,>=3.8.3->langchain==0.3.0) (2.4.0)\n",
      "Requirement already satisfied: aiosignal>=1.1.2 in c:\\programdata\\anaconda3\\lib\\site-packages (from aiohttp<4.0.0,>=3.8.3->langchain==0.3.0) (1.2.0)\n",
      "Requirement already satisfied: attrs>=17.3.0 in c:\\programdata\\anaconda3\\lib\\site-packages (from aiohttp<4.0.0,>=3.8.3->langchain==0.3.0) (23.1.0)\n",
      "Requirement already satisfied: frozenlist>=1.1.1 in c:\\programdata\\anaconda3\\lib\\site-packages (from aiohttp<4.0.0,>=3.8.3->langchain==0.3.0) (1.4.0)\n",
      "Requirement already satisfied: multidict<7.0,>=4.5 in c:\\programdata\\anaconda3\\lib\\site-packages (from aiohttp<4.0.0,>=3.8.3->langchain==0.3.0) (6.0.4)\n",
      "Requirement already satisfied: yarl<2.0,>=1.0 in c:\\programdata\\anaconda3\\lib\\site-packages (from aiohttp<4.0.0,>=3.8.3->langchain==0.3.0) (1.11.0)\n",
      "Requirement already satisfied: jsonpatch<2.0,>=1.33 in c:\\programdata\\anaconda3\\lib\\site-packages (from langchain-core<0.4.0,>=0.3.0->langchain==0.3.0) (1.33)\n",
      "Requirement already satisfied: packaging<25,>=23.2 in c:\\users\\ranes\\appdata\\roaming\\python\\python312\\site-packages (from langchain-core<0.4.0,>=0.3.0->langchain==0.3.0) (23.2)\n",
      "Requirement already satisfied: typing-extensions>=4.7 in c:\\programdata\\anaconda3\\lib\\site-packages (from langchain-core<0.4.0,>=0.3.0->langchain==0.3.0) (4.11.0)\n",
      "Requirement already satisfied: httpx<1,>=0.23.0 in c:\\programdata\\anaconda3\\lib\\site-packages (from langsmith<0.2.0,>=0.1.17->langchain==0.3.0) (0.27.0)\n",
      "Requirement already satisfied: orjson<4.0.0,>=3.9.14 in c:\\users\\ranes\\appdata\\roaming\\python\\python312\\site-packages (from langsmith<0.2.0,>=0.1.17->langchain==0.3.0) (3.10.18)\n",
      "Requirement already satisfied: requests-toolbelt<2.0.0,>=1.0.0 in c:\\programdata\\anaconda3\\lib\\site-packages (from langsmith<0.2.0,>=0.1.17->langchain==0.3.0) (1.0.0)\n",
      "Requirement already satisfied: annotated-types>=0.4.0 in c:\\programdata\\anaconda3\\lib\\site-packages (from pydantic<3.0.0,>=2.7.4->langchain==0.3.0) (0.6.0)\n",
      "Requirement already satisfied: pydantic-core==2.20.1 in c:\\programdata\\anaconda3\\lib\\site-packages (from pydantic<3.0.0,>=2.7.4->langchain==0.3.0) (2.20.1)\n",
      "Requirement already satisfied: charset-normalizer<4,>=2 in c:\\programdata\\anaconda3\\lib\\site-packages (from requests<3,>=2->langchain==0.3.0) (3.3.2)\n",
      "Requirement already satisfied: idna<4,>=2.5 in c:\\programdata\\anaconda3\\lib\\site-packages (from requests<3,>=2->langchain==0.3.0) (3.7)\n",
      "Requirement already satisfied: urllib3<3,>=1.21.1 in c:\\programdata\\anaconda3\\lib\\site-packages (from requests<3,>=2->langchain==0.3.0) (2.2.3)\n",
      "Requirement already satisfied: certifi>=2017.4.17 in c:\\programdata\\anaconda3\\lib\\site-packages (from requests<3,>=2->langchain==0.3.0) (2025.4.26)\n",
      "Requirement already satisfied: greenlet!=0.4.17 in c:\\programdata\\anaconda3\\lib\\site-packages (from SQLAlchemy<3,>=1.4->langchain==0.3.0) (3.0.1)\n",
      "Requirement already satisfied: anyio in c:\\programdata\\anaconda3\\lib\\site-packages (from httpx<1,>=0.23.0->langsmith<0.2.0,>=0.1.17->langchain==0.3.0) (4.2.0)\n",
      "Requirement already satisfied: httpcore==1.* in c:\\programdata\\anaconda3\\lib\\site-packages (from httpx<1,>=0.23.0->langsmith<0.2.0,>=0.1.17->langchain==0.3.0) (1.0.2)\n",
      "Requirement already satisfied: sniffio in c:\\programdata\\anaconda3\\lib\\site-packages (from httpx<1,>=0.23.0->langsmith<0.2.0,>=0.1.17->langchain==0.3.0) (1.3.0)\n",
      "Requirement already satisfied: h11<0.15,>=0.13 in c:\\programdata\\anaconda3\\lib\\site-packages (from httpcore==1.*->httpx<1,>=0.23.0->langsmith<0.2.0,>=0.1.17->langchain==0.3.0) (0.14.0)\n",
      "Requirement already satisfied: jsonpointer>=1.9 in c:\\programdata\\anaconda3\\lib\\site-packages (from jsonpatch<2.0,>=1.33->langchain-core<0.4.0,>=0.3.0->langchain==0.3.0) (2.1)\n"
     ]
    }
   ],
   "source": [
    "!pip install langchain==0.3.0"
   ]
  },
  {
   "cell_type": "code",
   "execution_count": 31,
   "id": "08265af4-d735-47e8-a86d-e58b1c5904fa",
   "metadata": {},
   "outputs": [
    {
     "name": "stdout",
     "output_type": "stream",
     "text": [
      "Defaulting to user installation because normal site-packages is not writeable\n",
      "Requirement already satisfied: langchain-google-genai==2.0.0 in c:\\users\\ranes\\appdata\\roaming\\python\\python312\\site-packages (2.0.0)\n",
      "Requirement already satisfied: google-generativeai<0.8.0,>=0.7.0 in c:\\users\\ranes\\appdata\\roaming\\python\\python312\\site-packages (from langchain-google-genai==2.0.0) (0.7.2)\n",
      "Requirement already satisfied: langchain-core<0.4,>=0.3.0 in c:\\users\\ranes\\appdata\\roaming\\python\\python312\\site-packages (from langchain-google-genai==2.0.0) (0.3.63)\n",
      "Requirement already satisfied: pydantic<3,>=2 in c:\\programdata\\anaconda3\\lib\\site-packages (from langchain-google-genai==2.0.0) (2.8.2)\n",
      "Requirement already satisfied: google-ai-generativelanguage==0.6.6 in c:\\users\\ranes\\appdata\\roaming\\python\\python312\\site-packages (from google-generativeai<0.8.0,>=0.7.0->langchain-google-genai==2.0.0) (0.6.6)\n",
      "Requirement already satisfied: google-api-core in c:\\users\\ranes\\appdata\\roaming\\python\\python312\\site-packages (from google-generativeai<0.8.0,>=0.7.0->langchain-google-genai==2.0.0) (2.25.1)\n",
      "Requirement already satisfied: google-api-python-client in c:\\users\\ranes\\appdata\\roaming\\python\\python312\\site-packages (from google-generativeai<0.8.0,>=0.7.0->langchain-google-genai==2.0.0) (2.172.0)\n",
      "Requirement already satisfied: google-auth>=2.15.0 in c:\\users\\ranes\\appdata\\roaming\\python\\python312\\site-packages (from google-generativeai<0.8.0,>=0.7.0->langchain-google-genai==2.0.0) (2.40.3)\n",
      "Requirement already satisfied: protobuf in c:\\programdata\\anaconda3\\lib\\site-packages (from google-generativeai<0.8.0,>=0.7.0->langchain-google-genai==2.0.0) (4.25.3)\n",
      "Requirement already satisfied: tqdm in c:\\programdata\\anaconda3\\lib\\site-packages (from google-generativeai<0.8.0,>=0.7.0->langchain-google-genai==2.0.0) (4.66.5)\n",
      "Requirement already satisfied: typing-extensions in c:\\programdata\\anaconda3\\lib\\site-packages (from google-generativeai<0.8.0,>=0.7.0->langchain-google-genai==2.0.0) (4.11.0)\n",
      "Requirement already satisfied: proto-plus<2.0.0dev,>=1.22.3 in c:\\users\\ranes\\appdata\\roaming\\python\\python312\\site-packages (from google-ai-generativelanguage==0.6.6->google-generativeai<0.8.0,>=0.7.0->langchain-google-genai==2.0.0) (1.26.1)\n",
      "Requirement already satisfied: langsmith<0.4,>=0.1.126 in c:\\users\\ranes\\appdata\\roaming\\python\\python312\\site-packages (from langchain-core<0.4,>=0.3.0->langchain-google-genai==2.0.0) (0.1.147)\n",
      "Requirement already satisfied: tenacity!=8.4.0,<10.0.0,>=8.1.0 in c:\\programdata\\anaconda3\\lib\\site-packages (from langchain-core<0.4,>=0.3.0->langchain-google-genai==2.0.0) (8.2.3)\n",
      "Requirement already satisfied: jsonpatch<2.0,>=1.33 in c:\\programdata\\anaconda3\\lib\\site-packages (from langchain-core<0.4,>=0.3.0->langchain-google-genai==2.0.0) (1.33)\n",
      "Requirement already satisfied: PyYAML>=5.3 in c:\\programdata\\anaconda3\\lib\\site-packages (from langchain-core<0.4,>=0.3.0->langchain-google-genai==2.0.0) (6.0.1)\n",
      "Requirement already satisfied: packaging<25,>=23.2 in c:\\users\\ranes\\appdata\\roaming\\python\\python312\\site-packages (from langchain-core<0.4,>=0.3.0->langchain-google-genai==2.0.0) (23.2)\n",
      "Requirement already satisfied: annotated-types>=0.4.0 in c:\\programdata\\anaconda3\\lib\\site-packages (from pydantic<3,>=2->langchain-google-genai==2.0.0) (0.6.0)\n",
      "Requirement already satisfied: pydantic-core==2.20.1 in c:\\programdata\\anaconda3\\lib\\site-packages (from pydantic<3,>=2->langchain-google-genai==2.0.0) (2.20.1)\n",
      "Requirement already satisfied: googleapis-common-protos<2.0.0,>=1.56.2 in c:\\users\\ranes\\appdata\\roaming\\python\\python312\\site-packages (from google-api-core->google-generativeai<0.8.0,>=0.7.0->langchain-google-genai==2.0.0) (1.70.0)\n",
      "Requirement already satisfied: requests<3.0.0,>=2.18.0 in c:\\programdata\\anaconda3\\lib\\site-packages (from google-api-core->google-generativeai<0.8.0,>=0.7.0->langchain-google-genai==2.0.0) (2.32.3)\n",
      "Requirement already satisfied: cachetools<6.0,>=2.0.0 in c:\\programdata\\anaconda3\\lib\\site-packages (from google-auth>=2.15.0->google-generativeai<0.8.0,>=0.7.0->langchain-google-genai==2.0.0) (5.3.3)\n",
      "Requirement already satisfied: pyasn1-modules>=0.2.1 in c:\\programdata\\anaconda3\\lib\\site-packages (from google-auth>=2.15.0->google-generativeai<0.8.0,>=0.7.0->langchain-google-genai==2.0.0) (0.2.8)\n",
      "Requirement already satisfied: rsa<5,>=3.1.4 in c:\\users\\ranes\\appdata\\roaming\\python\\python312\\site-packages (from google-auth>=2.15.0->google-generativeai<0.8.0,>=0.7.0->langchain-google-genai==2.0.0) (4.9.1)\n",
      "Requirement already satisfied: jsonpointer>=1.9 in c:\\programdata\\anaconda3\\lib\\site-packages (from jsonpatch<2.0,>=1.33->langchain-core<0.4,>=0.3.0->langchain-google-genai==2.0.0) (2.1)\n",
      "Requirement already satisfied: httpx<1,>=0.23.0 in c:\\programdata\\anaconda3\\lib\\site-packages (from langsmith<0.4,>=0.1.126->langchain-core<0.4,>=0.3.0->langchain-google-genai==2.0.0) (0.27.0)\n",
      "Requirement already satisfied: orjson<4.0.0,>=3.9.14 in c:\\users\\ranes\\appdata\\roaming\\python\\python312\\site-packages (from langsmith<0.4,>=0.1.126->langchain-core<0.4,>=0.3.0->langchain-google-genai==2.0.0) (3.10.18)\n",
      "Requirement already satisfied: requests-toolbelt<2.0.0,>=1.0.0 in c:\\programdata\\anaconda3\\lib\\site-packages (from langsmith<0.4,>=0.1.126->langchain-core<0.4,>=0.3.0->langchain-google-genai==2.0.0) (1.0.0)\n",
      "Requirement already satisfied: httplib2<1.0.0,>=0.19.0 in c:\\users\\ranes\\appdata\\roaming\\python\\python312\\site-packages (from google-api-python-client->google-generativeai<0.8.0,>=0.7.0->langchain-google-genai==2.0.0) (0.22.0)\n",
      "Requirement already satisfied: google-auth-httplib2<1.0.0,>=0.2.0 in c:\\users\\ranes\\appdata\\roaming\\python\\python312\\site-packages (from google-api-python-client->google-generativeai<0.8.0,>=0.7.0->langchain-google-genai==2.0.0) (0.2.0)\n",
      "Requirement already satisfied: uritemplate<5,>=3.0.1 in c:\\users\\ranes\\appdata\\roaming\\python\\python312\\site-packages (from google-api-python-client->google-generativeai<0.8.0,>=0.7.0->langchain-google-genai==2.0.0) (4.2.0)\n",
      "Requirement already satisfied: colorama in c:\\programdata\\anaconda3\\lib\\site-packages (from tqdm->google-generativeai<0.8.0,>=0.7.0->langchain-google-genai==2.0.0) (0.4.6)\n",
      "Requirement already satisfied: grpcio<2.0.0,>=1.33.2 in c:\\users\\ranes\\appdata\\roaming\\python\\python312\\site-packages (from google-api-core[grpc]!=2.0.*,!=2.1.*,!=2.10.*,!=2.2.*,!=2.3.*,!=2.4.*,!=2.5.*,!=2.6.*,!=2.7.*,!=2.8.*,!=2.9.*,<3.0.0dev,>=1.34.1->google-ai-generativelanguage==0.6.6->google-generativeai<0.8.0,>=0.7.0->langchain-google-genai==2.0.0) (1.73.0)\n",
      "Requirement already satisfied: grpcio-status<2.0.0,>=1.33.2 in c:\\users\\ranes\\appdata\\roaming\\python\\python312\\site-packages (from google-api-core[grpc]!=2.0.*,!=2.1.*,!=2.10.*,!=2.2.*,!=2.3.*,!=2.4.*,!=2.5.*,!=2.6.*,!=2.7.*,!=2.8.*,!=2.9.*,<3.0.0dev,>=1.34.1->google-ai-generativelanguage==0.6.6->google-generativeai<0.8.0,>=0.7.0->langchain-google-genai==2.0.0) (1.62.3)\n",
      "Requirement already satisfied: pyparsing!=3.0.0,!=3.0.1,!=3.0.2,!=3.0.3,<4,>=2.4.2 in c:\\programdata\\anaconda3\\lib\\site-packages (from httplib2<1.0.0,>=0.19.0->google-api-python-client->google-generativeai<0.8.0,>=0.7.0->langchain-google-genai==2.0.0) (3.1.2)\n",
      "Requirement already satisfied: anyio in c:\\programdata\\anaconda3\\lib\\site-packages (from httpx<1,>=0.23.0->langsmith<0.4,>=0.1.126->langchain-core<0.4,>=0.3.0->langchain-google-genai==2.0.0) (4.2.0)\n",
      "Requirement already satisfied: certifi in c:\\programdata\\anaconda3\\lib\\site-packages (from httpx<1,>=0.23.0->langsmith<0.4,>=0.1.126->langchain-core<0.4,>=0.3.0->langchain-google-genai==2.0.0) (2025.4.26)\n",
      "Requirement already satisfied: httpcore==1.* in c:\\programdata\\anaconda3\\lib\\site-packages (from httpx<1,>=0.23.0->langsmith<0.4,>=0.1.126->langchain-core<0.4,>=0.3.0->langchain-google-genai==2.0.0) (1.0.2)\n",
      "Requirement already satisfied: idna in c:\\programdata\\anaconda3\\lib\\site-packages (from httpx<1,>=0.23.0->langsmith<0.4,>=0.1.126->langchain-core<0.4,>=0.3.0->langchain-google-genai==2.0.0) (3.7)\n",
      "Requirement already satisfied: sniffio in c:\\programdata\\anaconda3\\lib\\site-packages (from httpx<1,>=0.23.0->langsmith<0.4,>=0.1.126->langchain-core<0.4,>=0.3.0->langchain-google-genai==2.0.0) (1.3.0)\n",
      "Requirement already satisfied: h11<0.15,>=0.13 in c:\\programdata\\anaconda3\\lib\\site-packages (from httpcore==1.*->httpx<1,>=0.23.0->langsmith<0.4,>=0.1.126->langchain-core<0.4,>=0.3.0->langchain-google-genai==2.0.0) (0.14.0)\n",
      "Requirement already satisfied: pyasn1<0.5.0,>=0.4.6 in c:\\programdata\\anaconda3\\lib\\site-packages (from pyasn1-modules>=0.2.1->google-auth>=2.15.0->google-generativeai<0.8.0,>=0.7.0->langchain-google-genai==2.0.0) (0.4.8)\n",
      "Requirement already satisfied: charset-normalizer<4,>=2 in c:\\programdata\\anaconda3\\lib\\site-packages (from requests<3.0.0,>=2.18.0->google-api-core->google-generativeai<0.8.0,>=0.7.0->langchain-google-genai==2.0.0) (3.3.2)\n",
      "Requirement already satisfied: urllib3<3,>=1.21.1 in c:\\programdata\\anaconda3\\lib\\site-packages (from requests<3.0.0,>=2.18.0->google-api-core->google-generativeai<0.8.0,>=0.7.0->langchain-google-genai==2.0.0) (2.2.3)\n"
     ]
    }
   ],
   "source": [
    "!pip install langchain-google-genai==2.0.0"
   ]
  },
  {
   "cell_type": "code",
   "execution_count": null,
   "id": "8b685900-5a06-4f1b-8048-a5e27fd46b84",
   "metadata": {},
   "outputs": [],
   "source": [
    "import os\n",
    "from dotenv import load_dotenv\n",
    "load_dotenv()\n",
    "api_key = os.getenv(\"GOOGLE_API_KEY\")"
   ]
  },
  {
   "cell_type": "code",
   "execution_count": 33,
   "id": "c0806d16-91a8-4cff-a29a-05aeb946b8b0",
   "metadata": {},
   "outputs": [],
   "source": [
    "from langchain_google_genai import GoogleGenerativeAIEmbeddings"
   ]
  },
  {
   "cell_type": "code",
   "execution_count": 38,
   "id": "cce15b48-6a5e-4db0-8f69-ebe8b710c4a9",
   "metadata": {},
   "outputs": [],
   "source": [
    "embeddings = GoogleGenerativeAIEmbeddings(model=\"models/embedding-001\")"
   ]
  },
  {
   "cell_type": "code",
   "execution_count": 35,
   "id": "54467405-273d-4ee8-805c-433221035091",
   "metadata": {},
   "outputs": [
    {
     "name": "stdout",
     "output_type": "stream",
     "text": [
      "         Words\n",
      "0     Elephant\n",
      "1         Lion\n",
      "2        Tiger\n",
      "3          Dog\n",
      "4      Cricket\n",
      "5      Footbal\n",
      "6       Tennis\n",
      "7   Basketball\n",
      "8        Apple\n",
      "9       Orange\n",
      "10      Banana\n"
     ]
    }
   ],
   "source": [
    "import pandas as pd\n",
    "df = pd.read_excel(r\"C:\\Users\\ranes\\Downloads\\Data.xlsx\")\n",
    "print(df)"
   ]
  },
  {
   "cell_type": "code",
   "execution_count": 39,
   "id": "404feee4-abd9-46a6-86cd-8bc664ad3b44",
   "metadata": {},
   "outputs": [],
   "source": [
    "df['embedding'] = df['Words'].apply(lambda x: embeddings.embed_query(text=x))\n",
    "df.to_csv('word_embeddings.csv')"
   ]
  },
  {
   "cell_type": "code",
   "execution_count": 40,
   "id": "d082e313-6bb7-495c-9480-cc051647388c",
   "metadata": {},
   "outputs": [
    {
     "name": "stdout",
     "output_type": "stream",
     "text": [
      "    Unnamed: 0       Words                                          embedding\n",
      "0            0    Elephant  [0.037000417709350586, -0.04222828522324562, -...\n",
      "1            1        Lion  [0.04014349728822708, -0.019579103216528893, -...\n",
      "2            2       Tiger  [0.005499841179698706, -0.057277318090200424, ...\n",
      "3            3         Dog  [0.03929851949214935, -0.03392379730939865, -0...\n",
      "4            4     Cricket  [0.03606771305203438, -0.06015719100832939, -0...\n",
      "5            5     Footbal  [0.02349284291267395, -0.030407171696424484, -...\n",
      "6            6      Tennis  [0.02970757521688938, -0.032389119267463684, 0...\n",
      "7            7  Basketball  [0.02804890275001526, -0.029973171651363373, -...\n",
      "8            8       Apple  [0.05310168117284775, -0.007394417654722929, -...\n",
      "9            9      Orange  [0.026335667818784714, -0.08297494053840637, -...\n",
      "10          10      Banana  [0.051837220788002014, -0.022469904273748398, ...\n"
     ]
    }
   ],
   "source": [
    "new_df = pd.read_csv('word_embeddings.csv')\n",
    "print(new_df)"
   ]
  },
  {
   "cell_type": "code",
   "execution_count": 41,
   "id": "e5e655cc-ac82-4134-b235-7a29acb45a3e",
   "metadata": {},
   "outputs": [],
   "source": [
    "our_Text = \"Cat\""
   ]
  },
  {
   "cell_type": "code",
   "execution_count": 42,
   "id": "f13860aa-545e-4420-989f-d6ed30057535",
   "metadata": {},
   "outputs": [],
   "source": [
    "text_embedding = embeddings.embed_query(our_Text)"
   ]
  },
  {
   "cell_type": "code",
   "execution_count": 44,
   "id": "7cf50df2-865d-4355-b77d-201ef50fd283",
   "metadata": {},
   "outputs": [
    {
     "name": "stdout",
     "output_type": "stream",
     "text": [
      "Our embeddings is [0.033712148666381836, -0.03692612051963806, -0.04624668136239052, -0.08384791016578674, -0.008180756121873856, 0.013808248564600945, -0.019102076068520546, -0.03598524630069733, 0.019627617672085762, 0.03861403092741966, 0.02543644979596138, 0.005505438428372145, -0.005810670554637909, -0.019201841205358505, 0.025499707087874413, -0.011738036759197712, 0.04173550382256508, 0.051682230085134506, -0.008449668996036053, -0.03968968242406845, 0.014014228247106075, 0.020173050463199615, -0.005216590128839016, 0.005788527894765139, 0.02431636117398739, -0.014956631697714329, 0.05046125873923302, -0.0666433647274971, -0.018057744950056076, 0.045563723891973495, -0.04834471270442009, 0.024026531726121902, -0.0779830738902092, 0.008738135918974876, 0.015451117418706417, -0.0011522358981892467, -0.0035184461157768965, -0.021409455686807632, 0.003767550690099597, 0.048618633300065994, 0.008954106830060482, -0.021295297890901566, -0.019993485882878304, -0.011639039032161236, 0.03027016669511795, -0.03115929290652275, 0.08492445945739746, -0.014845655299723148, -0.007361104711890221, -0.072138711810112, 0.05247970297932625, -0.005689309444278479, 0.04256347566843033, -0.023431774228811264, -0.003435625694692135, -0.009455746971070766, 0.012821352109313011, 0.019065307453274727, -0.04819680005311966, -0.0252402164041996, 0.0488143227994442, 0.050079479813575745, -0.0201275572180748, 0.1024157851934433, -0.0028869600500911474, 0.025767285376787186, -0.052378226071596146, 0.07896997779607773, 0.03137535601854324, -0.04161108285188675, -0.01891123130917549, -0.006906365044414997, 0.02831209823489189, 0.0014377196785062551, -0.03550506755709648, -0.0523235984146595, -0.05066511034965515, 0.020169509574770927, 0.001821638084948063, 0.0026560293044894934, 0.06193436309695244, -0.04857371747493744, -0.0004325532354414463, -0.02482336387038231, -0.04660255089402199, 0.02499917522072792, -0.042769014835357666, 0.006767646875232458, 0.013823363929986954, 0.038422368466854095, -0.011527694761753082, -1.2071304809069261e-05, 0.007366604637354612, -0.06484466046094894, -0.008913845755159855, 0.03349965810775757, 0.00977293774485588, 0.017651502043008804, -0.0027966033667325974, -0.03142006695270538, -0.009196707047522068, -0.03517637774348259, 0.0013376111164689064, 0.01852666586637497, 0.041914280503988266, 0.028277531266212463, -0.035553041845560074, 0.07573600113391876, 0.0035824188962578773, -0.01563054323196411, -0.05011177062988281, 0.020365724340081215, -0.03017614036798477, -0.01564384065568447, 0.034882426261901855, 0.028634274378418922, -0.0054093338549137115, 0.07655403763055801, 0.027688197791576385, 0.018094779923558235, -0.008451233617961407, -0.00263445102609694, 0.05082695186138153, 0.02651347778737545, 0.005777890793979168, -0.017572369426488876, -0.00661279633641243, 0.04247152805328369, 0.016361428424715996, 0.03532549738883972, -0.05216856300830841, -0.046693604439496994, 0.02597632259130478, 0.03438981622457504, 0.08888863027095795, 0.07364710420370102, 0.0658571720123291, 0.003318730043247342, 0.05298136919736862, 0.01909450627863407, -0.006752621382474899, 0.024071212857961655, 0.01953229308128357, -0.004231191705912352, 0.007595826871693134, 0.03576159104704857, -0.026252347975969315, -0.029464539140462875, 0.018098698928952217, 0.017426764592528343, 0.003732403041794896, 0.029733357951045036, -0.03078692965209484, 0.04523796960711479, 0.09133803099393845, -0.007664932869374752, -0.02827647142112255, 0.011054996401071548, 0.018389085307717323, 0.0215950608253479, 0.05533316731452942, 0.029665939509868622, 0.030293937772512436, 0.047014035284519196, 0.00023480503296013921, -0.07697590440511703, 0.0067757498472929, 0.02605762518942356, 0.005114661529660225, 0.016198569908738136, 0.023420490324497223, 0.019451776519417763, -0.049415502697229385, -0.03904830291867256, -0.018612481653690338, -0.06307169049978256, -0.02117052860558033, -0.0292755588889122, -0.024957986548542976, -0.03587913140654564, -0.01528809405863285, -0.025870943441987038, -0.000898072321433574, 0.02479066699743271, 0.0056081549264490604, -0.028804339468479156, 0.07103976607322693, -0.010864094831049442, -0.036407917737960815, 0.0007921319338493049, -0.018033070489764214, -0.006953949108719826, -0.04291775822639465, 0.01701752096414566, -0.006660401821136475, 0.02467256225645542, -0.00202667573466897, 0.012159864418208599, -0.000703725905623287, -0.05641487240791321, 0.014760435558855534, 0.0965258851647377, -0.019776828587055206, 0.008826319128274918, 0.013547709211707115, 0.01653376594185829, 0.049005888402462006, -0.07199516147375107, -0.010527560487389565, 0.018072588369250298, -0.007671354338526726, -0.008719594217836857, -0.034565314650535583, 0.021191731095314026, 0.031198004260659218, -0.011572943069040775, 0.06501824408769608, -0.008099052123725414, 0.014715045690536499, -0.017435822635889053, -0.03230638429522514, -0.012389419600367546, -0.026398390531539917, 0.021605301648378372, -0.01217411458492279, 0.05503443628549576, -0.03643038123846054, -0.00083321169950068, -0.004317908547818661, -0.05217719078063965, -0.031184714287519455, 0.03367801755666733, 0.018688281998038292, -0.05551186203956604, 0.06935805082321167, 0.0027199825271964073, 0.034785281866788864, -0.011785170994699001, 0.025210406631231308, 0.0328177772462368, -0.0075853364542126656, 0.010896039195358753, 0.06489959359169006, 0.0552920363843441, -0.04320494458079338, -0.04610882326960564, -0.0012979150051251054, 0.009265103377401829, -0.009995009750127792, 0.0307441558688879, -0.015243170782923698, -0.040963638573884964, 0.008433201350271702, 0.017330531030893326, -0.01711159199476242, 0.02061622031033039, -0.07510325312614441, 0.017186658456921577, 0.013127679005265236, -0.009096311405301094, 0.02296498790383339, 0.001955323852598667, -0.0302995927631855, -0.017837120220065117, -0.04245376959443092, 0.030776549130678177, 0.03717722371220589, -0.026187876239418983, 0.007815293036401272, 0.0012305080890655518, 0.02219771221280098, 0.0036966255865991116, 0.04890955239534378, -0.006058426573872566, -0.014041701331734657, 0.01716417260468006, -0.02192337065935135, 0.016817091032862663, -0.0018696932820603251, 0.014047568663954735, 0.03399357572197914, 0.057311322540044785, 0.0611368864774704, -0.02367236092686653, -0.025740215554833412, -0.04116850718855858, -0.08225616067647934, 0.0008985332096926868, 0.014305739663541317, -0.013031733222305775, -0.05408835783600807, -0.03630440682172775, -0.016970770433545113, -0.025612536817789078, -0.04767008498311043, 0.044082339853048325, -0.032859012484550476, 0.05545591562986374, 0.03236132860183716, -0.005190832540392876, -0.001590545172803104, -0.012801464647054672, 0.017231948673725128, -0.06655184179544449, 0.03014986217021942, -0.004629089031368494, -0.025143634527921677, -0.04669863358139992, 0.02080395631492138, -0.00828984472900629, 0.0005275301518850029, -0.013331620953977108, -0.0799005776643753, 0.017620312049984932, 0.052974339574575424, 0.01544550247490406, -0.028409792110323906, 0.03337162360548973, -0.030502207577228546, 0.00870496779680252, 0.025118399411439896, 0.06549257040023804, 0.018849823623895645, -0.004620271269232035, 0.010833030566573143, 0.009084057994186878, 0.005222472362220287, 0.05923093855381012, 0.00414242222905159, -0.0035705752670764923, -0.02564341388642788, -0.006202065385878086, -0.08500441908836365, 0.05268990620970726, 0.009331407025456429, 0.019921502098441124, -0.013360665179789066, -0.011162396520376205, -0.02106059156358242, 0.010927045717835426, 0.06401307135820389, -0.003118565073236823, -0.04716477170586586, -0.019981715828180313, 0.01655845157802105, 0.007469891104847193, -0.04278765991330147, 0.01866200752556324, 0.07965271174907684, 0.03511983901262283, 0.02115583047270775, 0.048760559409856796, -0.024495813995599747, -0.06843584775924683, 0.015238468535244465, -0.03996006399393082, -0.0009183298680000007, -0.005125046242028475, 0.029705911874771118, -0.032395415008068085, -0.007567876018583775, 0.13508306443691254, -0.01884012296795845, 0.006327223498374224, -0.005028583109378815, 0.06926215440034866, 0.03517613187432289, 0.02623783051967621, -0.05138596147298813, 0.02405659295618534, -0.022769445553421974, -0.03760601207613945, -0.01427995041012764, -0.002208428457379341, -0.024357188493013382, -0.03164694458246231, -0.03553971275687218, -0.02955463156104088, -0.002004246460273862, 0.02689647488296032, -0.009304814040660858, -0.018216464668512344, 0.0741342231631279, 0.03089752420783043, -0.0008046397124417126, -0.06200161948800087, 0.0549657978117466, 0.04286188259720802, 0.01216998789459467, -0.008259248919785023, 0.013288585469126701, 0.04052705690264702, 0.03841070830821991, 0.05508192628622055, -0.011746586300432682, 0.03633635491132736, -0.019720671698451042, -0.041038867086172104, 0.03223975747823715, -0.022967003285884857, 0.028135007247328758, 0.0054331193678081036, -0.05737519636750221, -0.014442500658333302, -0.02000950463116169, -0.022707410156726837, 0.03081625886261463, -0.01804051361978054, -0.028621120378375053, 0.02470121532678604, 0.03258199617266655, 0.041498616337776184, 0.033757880330085754, -0.03243815526366234, -0.07590919733047485, -0.04494572430849075, 0.060222383588552475, -0.02814606949687004, -0.004862480331212282, -0.0068069566041231155, 0.002311760326847434, 0.013711881823837757, -0.027769694104790688, -0.00533905578777194, -0.019865388050675392, -0.032129790633916855, 0.051648665219545364, -0.00945207104086876, -0.01361859031021595, 0.0329187847673893, 0.04983709752559662, 0.026460062712430954, -0.021455617621541023, -0.005657566245645285, 0.003633000422269106, -0.04476114735007286, 0.037516314536333084, 0.013263242319226265, -0.06835347414016724, 0.009072881191968918, 0.0195100549608469, -0.0015755320200696588, 0.024409174919128418, -0.03683454543352127, -0.07024721801280975, -0.05388927459716797, -0.015428413636982441, -0.027841482311487198, 0.0601697638630867, -0.1159430742263794, 0.016447851434350014, -0.036775875836610794, -0.021675312891602516, -0.09437154233455658, -0.001095206243917346, -0.02287396974861622, 0.026089714840054512, 0.02675267681479454, -0.03495233878493309, 0.018442794680595398, -0.0366901159286499, -0.03201157972216606, -0.01504924800246954, -0.05579241365194321, 0.03110971301794052, -0.05084865167737007, 0.06449927389621735, 0.0006382869905792177, 0.03195812180638313, 0.018599482253193855, -0.012694387696683407, -0.047058798372745514, 0.030889995396137238, 0.01196248922497034, -0.05665591359138489, -0.0036533765960484743, -0.049971044063568115, -0.025630446150898933, 0.02573774941265583, -0.018005521968007088, 0.010815284214913845, -0.0020876277703791857, 0.03328815847635269, 0.019963622093200684, -0.019383074715733528, -0.017687588930130005, -0.0036032330244779587, -0.05031276121735573, -0.006389391142874956, 0.050004348158836365, -0.035457268357276917, -0.01577940583229065, -0.012107670307159424, -0.04238260164856911, -0.02069076895713806, -0.04001855105161667, -0.005082631949335337, 0.0723055750131607, 0.051773592829704285, 0.04314439371228218, -0.006389326881617308, -0.00583269726485014, -0.02232944779098034, -0.02746347337961197, 0.03632800281047821, -0.07758881896734238, 0.011240833438932896, 0.014018001034855843, -0.0067933727987110615, -0.01932426355779171, -0.0034676159266382456, 0.0020310620311647654, -0.023614026606082916, -0.012365489266812801, 0.023337405174970627, -0.007722542621195316, 0.0210840106010437, 0.012608541175723076, 0.014420277439057827, 0.013444568030536175, 0.09062186628580093, 0.0014046569122001529, -0.11735069006681442, -0.023882076144218445, -0.013060040771961212, -0.05093493312597275, 0.018670372664928436, 0.028037557378411293, -0.0037102028727531433, 0.02941802702844143, -0.01880848966538906, 0.11572550237178802, -0.0754406675696373, -0.023413369432091713, -0.008246456272900105, -0.0009599117329344153, 0.011305494233965874, 0.02726704254746437, -0.006392103154212236, 0.021686961874365807, 0.0316581204533577, -0.07046014070510864, -0.004179475363343954, 0.017881136387586594, -0.01170740183442831, 0.007592915091663599, 0.036043714731931686, -0.0944613590836525, 0.017580974847078323, -0.000578207487706095, -0.012606499716639519, -0.009835400618612766, -0.012970237992703915, -0.004128569737076759, 0.011162929236888885, 0.005359421018511057, 0.001694136648438871, -0.015360082499682903, 0.0039231376722455025, 0.028370549902319908, -0.02323097176849842, -0.03159232437610626, 0.03727635368704796, -0.026915481314063072, 0.08960618078708649, -0.0024390118196606636, -0.013748610392212868, 0.04774090275168419, 0.03829578682780266, 0.012341598980128765, -0.010054287500679493, 0.050799962133169174, 0.07169679552316666, -0.014026343822479248, 0.026922006160020828, 0.0003603495715651661, -0.05303964391350746, -0.0059061856009066105, 0.02934262901544571, 0.03526359051465988, 0.04292067512869835, -0.011348052881658077, 0.016713498160243034, 0.056144218891859055, -0.04331421107053757, 0.08508265763521194, 0.007071010302752256, -0.03557787835597992, 0.0413704589009285, -0.011234126053750515, -0.04643943905830383, -0.015222816728055477, -0.02652033604681492, -0.015186112374067307, -0.025895966216921806, -0.00843995250761509, 0.05212731659412384, 0.01895556040108204, -0.01526359748095274, -0.023039255291223526, 0.03711751103401184, -0.047923699021339417, 0.08453410863876343, -0.07210753858089447, 0.026861777529120445, 0.03290339559316635, 0.009293862618505955, -0.018168317154049873, -0.04243086278438568, 0.01487722247838974, -0.010813995264470577, -0.05601644888520241, 0.01097330916672945, -0.033206261694431305, -0.05669000372290611, 0.010381026193499565, 0.03473663702607155, 0.039944928139448166, -0.030342470854520798, -0.013804232701659203, -0.032744698226451874, -0.022298390045762062, 0.006507511250674725, 0.013406259007751942, 0.04930160194635391, -0.005342647433280945, -0.034506216645240784, -0.05949769541621208, 0.07192554324865341, 0.026482999324798584, 0.014927580021321774, 0.01252148486673832, -0.023728398606181145, -0.001276843249797821, -0.02549917623400688, 0.048597898334264755, 0.026590030640363693, -0.01667339727282524, 0.04832187294960022, -0.011320719495415688, -0.0850638821721077, -0.0302287545055151, 0.04440326616168022, 0.030699575319886208, -0.019605783745646477, 0.09266935288906097, 0.0400957316160202, -0.0716644823551178, -0.04129283130168915, 0.028534596785902977, -0.04935760796070099, 0.008775626309216022, 0.009986530989408493, 0.034529369324445724, 0.03569231554865837, 0.04781422019004822, -0.031121112406253815, -0.027541037648916245, 0.04012138769030571, -0.005273607559502125, -0.06665623188018799, -0.00637008436024189, -0.0028867945075035095, -0.011936739087104797, 0.019797433167696, -0.0075881509110331535, -0.051936276257038116, -0.07259777188301086, 0.020255448296666145, 0.037957895547151566, -0.041115082800388336, 0.08446389436721802, 0.07590339332818985, -0.011366793885827065, 0.0296076200902462, 0.05761927366256714, -0.038523681461811066, 0.0356077216565609, -0.054758552461862564, 0.018210146576166153, -0.041535910218954086, -0.05085429921746254, -0.027936195954680443, 0.04253522679209709, 0.03411252051591873, 0.03056676685810089, 0.030869731679558754, 0.0013433467829599977, 0.0010089782299473882, -0.05437232926487923, 0.026901016011834145, -0.010520946234464645, -0.003209554823115468, 0.0002902036649174988, 0.06637698411941528, 0.018032649531960487, -0.05648108199238777, 0.002418773714452982, -0.027205195277929306, 0.05412745475769043, -0.007025561761111021, 0.012611006386578083, -0.01953509822487831, -0.010885617695748806, -0.025054121389985085, 0.025797905400395393, 0.022796815261244774, -0.0002787844859994948, -0.02499159798026085, -0.0018118557054549456, 0.00737007288262248, -0.05209474638104439, -0.04677647352218628, 0.02581441029906273, 0.023680560290813446, -0.07345131784677505, 0.023749899119138718, 0.02481246553361416, -0.01575496606528759, 0.058238763362169266, 0.006783382501453161, 0.0034710110630840063, 0.03608778119087219, -0.03504534065723419, -0.010508095845580101, 0.03465435653924942, -0.01369194034487009, 0.03425879031419754, -0.0025952791329473257, -0.019602809101343155, 0.02038223296403885, -0.0339735671877861, -0.0005432050093077123, 0.062435660511255264, -0.03364581987261772, 0.07100927829742432, 0.011016462929546833, 0.04683380573987961, 0.003078141948208213, -0.05091801658272743, -0.025606462731957436, -5.4300526244333014e-05, 0.028849296271800995, 0.07266627252101898, 0.005642127711325884, -0.02760208584368229, 0.0034136364702135324, -0.0011494579957798123, -0.013186605647206306, 0.00263602240011096, -0.08004248142242432, -0.027875572443008423, -0.002070266054943204, 0.052180737257003784, 0.021000908687710762, -0.028941962867975235, 0.010448961518704891, -0.030340515077114105, -0.02649988792836666, -0.026363495737314224, -0.0564139261841774, 0.05294816195964813, 0.03139176592230797, -0.021468672901391983, 0.023462198674678802, -0.004536814987659454, 0.007642148062586784, 0.06527657806873322]\n"
     ]
    }
   ],
   "source": [
    "print(f\"Our embeddings is {text_embedding}\")"
   ]
  },
  {
   "cell_type": "code",
   "execution_count": 45,
   "id": "18fcde3e-2b38-4dc4-a2fb-a175c0d527de",
   "metadata": {},
   "outputs": [
    {
     "data": {
      "text/html": [
       "<div>\n",
       "<style scoped>\n",
       "    .dataframe tbody tr th:only-of-type {\n",
       "        vertical-align: middle;\n",
       "    }\n",
       "\n",
       "    .dataframe tbody tr th {\n",
       "        vertical-align: top;\n",
       "    }\n",
       "\n",
       "    .dataframe thead th {\n",
       "        text-align: right;\n",
       "    }\n",
       "</style>\n",
       "<table border=\"1\" class=\"dataframe\">\n",
       "  <thead>\n",
       "    <tr style=\"text-align: right;\">\n",
       "      <th></th>\n",
       "      <th>Words</th>\n",
       "      <th>embedding</th>\n",
       "      <th>similarity score</th>\n",
       "    </tr>\n",
       "  </thead>\n",
       "  <tbody>\n",
       "    <tr>\n",
       "      <th>0</th>\n",
       "      <td>Elephant</td>\n",
       "      <td>[0.037000417709350586, -0.04222828522324562, -...</td>\n",
       "      <td>0.716810</td>\n",
       "    </tr>\n",
       "    <tr>\n",
       "      <th>1</th>\n",
       "      <td>Lion</td>\n",
       "      <td>[0.04014349728822708, -0.019579103216528893, -...</td>\n",
       "      <td>0.694085</td>\n",
       "    </tr>\n",
       "    <tr>\n",
       "      <th>2</th>\n",
       "      <td>Tiger</td>\n",
       "      <td>[0.005499841179698706, -0.057277318090200424, ...</td>\n",
       "      <td>0.746696</td>\n",
       "    </tr>\n",
       "    <tr>\n",
       "      <th>3</th>\n",
       "      <td>Dog</td>\n",
       "      <td>[0.03929851949214935, -0.03392379730939865, -0...</td>\n",
       "      <td>0.779182</td>\n",
       "    </tr>\n",
       "    <tr>\n",
       "      <th>4</th>\n",
       "      <td>Cricket</td>\n",
       "      <td>[0.03606771305203438, -0.06015719100832939, -0...</td>\n",
       "      <td>0.709049</td>\n",
       "    </tr>\n",
       "    <tr>\n",
       "      <th>5</th>\n",
       "      <td>Footbal</td>\n",
       "      <td>[0.02349284291267395, -0.030407171696424484, -...</td>\n",
       "      <td>0.677102</td>\n",
       "    </tr>\n",
       "    <tr>\n",
       "      <th>6</th>\n",
       "      <td>Tennis</td>\n",
       "      <td>[0.02970757521688938, -0.032389119267463684, 0...</td>\n",
       "      <td>0.677155</td>\n",
       "    </tr>\n",
       "    <tr>\n",
       "      <th>7</th>\n",
       "      <td>Basketball</td>\n",
       "      <td>[0.02804890275001526, -0.029973171651363373, -...</td>\n",
       "      <td>0.692718</td>\n",
       "    </tr>\n",
       "    <tr>\n",
       "      <th>8</th>\n",
       "      <td>Apple</td>\n",
       "      <td>[0.05310168117284775, -0.007394417654722929, -...</td>\n",
       "      <td>0.697230</td>\n",
       "    </tr>\n",
       "    <tr>\n",
       "      <th>9</th>\n",
       "      <td>Orange</td>\n",
       "      <td>[0.026335667818784714, -0.08297494053840637, -...</td>\n",
       "      <td>0.659342</td>\n",
       "    </tr>\n",
       "    <tr>\n",
       "      <th>10</th>\n",
       "      <td>Banana</td>\n",
       "      <td>[0.051837220788002014, -0.022469904273748398, ...</td>\n",
       "      <td>0.697124</td>\n",
       "    </tr>\n",
       "  </tbody>\n",
       "</table>\n",
       "</div>"
      ],
      "text/plain": [
       "         Words                                          embedding  \\\n",
       "0     Elephant  [0.037000417709350586, -0.04222828522324562, -...   \n",
       "1         Lion  [0.04014349728822708, -0.019579103216528893, -...   \n",
       "2        Tiger  [0.005499841179698706, -0.057277318090200424, ...   \n",
       "3          Dog  [0.03929851949214935, -0.03392379730939865, -0...   \n",
       "4      Cricket  [0.03606771305203438, -0.06015719100832939, -0...   \n",
       "5      Footbal  [0.02349284291267395, -0.030407171696424484, -...   \n",
       "6       Tennis  [0.02970757521688938, -0.032389119267463684, 0...   \n",
       "7   Basketball  [0.02804890275001526, -0.029973171651363373, -...   \n",
       "8        Apple  [0.05310168117284775, -0.007394417654722929, -...   \n",
       "9       Orange  [0.026335667818784714, -0.08297494053840637, -...   \n",
       "10      Banana  [0.051837220788002014, -0.022469904273748398, ...   \n",
       "\n",
       "    similarity score  \n",
       "0           0.716810  \n",
       "1           0.694085  \n",
       "2           0.746696  \n",
       "3           0.779182  \n",
       "4           0.709049  \n",
       "5           0.677102  \n",
       "6           0.677155  \n",
       "7           0.692718  \n",
       "8           0.697230  \n",
       "9           0.659342  \n",
       "10          0.697124  "
      ]
     },
     "execution_count": 45,
     "metadata": {},
     "output_type": "execute_result"
    }
   ],
   "source": [
    "import numpy as np\n",
    "def cosine_similarity(a,b):\n",
    "    return np.dot(a,b) / (np.linalg.norm(a) * np.linalg.norm(b))\n",
    "df['similarity score'] = df['embedding'].apply(lambda x: cosine_similarity(x, text_embedding))\n",
    "df"
   ]
  },
  {
   "cell_type": "code",
   "execution_count": 47,
   "id": "c27d4e54-74b2-47c5-9dbc-ed1924a95495",
   "metadata": {},
   "outputs": [
    {
     "data": {
      "text/html": [
       "<div>\n",
       "<style scoped>\n",
       "    .dataframe tbody tr th:only-of-type {\n",
       "        vertical-align: middle;\n",
       "    }\n",
       "\n",
       "    .dataframe tbody tr th {\n",
       "        vertical-align: top;\n",
       "    }\n",
       "\n",
       "    .dataframe thead th {\n",
       "        text-align: right;\n",
       "    }\n",
       "</style>\n",
       "<table border=\"1\" class=\"dataframe\">\n",
       "  <thead>\n",
       "    <tr style=\"text-align: right;\">\n",
       "      <th></th>\n",
       "      <th>Words</th>\n",
       "      <th>embedding</th>\n",
       "      <th>similarity score</th>\n",
       "    </tr>\n",
       "  </thead>\n",
       "  <tbody>\n",
       "    <tr>\n",
       "      <th>3</th>\n",
       "      <td>Dog</td>\n",
       "      <td>[0.03929851949214935, -0.03392379730939865, -0...</td>\n",
       "      <td>0.779182</td>\n",
       "    </tr>\n",
       "    <tr>\n",
       "      <th>2</th>\n",
       "      <td>Tiger</td>\n",
       "      <td>[0.005499841179698706, -0.057277318090200424, ...</td>\n",
       "      <td>0.746696</td>\n",
       "    </tr>\n",
       "    <tr>\n",
       "      <th>0</th>\n",
       "      <td>Elephant</td>\n",
       "      <td>[0.037000417709350586, -0.04222828522324562, -...</td>\n",
       "      <td>0.716810</td>\n",
       "    </tr>\n",
       "    <tr>\n",
       "      <th>4</th>\n",
       "      <td>Cricket</td>\n",
       "      <td>[0.03606771305203438, -0.06015719100832939, -0...</td>\n",
       "      <td>0.709049</td>\n",
       "    </tr>\n",
       "    <tr>\n",
       "      <th>8</th>\n",
       "      <td>Apple</td>\n",
       "      <td>[0.05310168117284775, -0.007394417654722929, -...</td>\n",
       "      <td>0.697230</td>\n",
       "    </tr>\n",
       "    <tr>\n",
       "      <th>10</th>\n",
       "      <td>Banana</td>\n",
       "      <td>[0.051837220788002014, -0.022469904273748398, ...</td>\n",
       "      <td>0.697124</td>\n",
       "    </tr>\n",
       "    <tr>\n",
       "      <th>1</th>\n",
       "      <td>Lion</td>\n",
       "      <td>[0.04014349728822708, -0.019579103216528893, -...</td>\n",
       "      <td>0.694085</td>\n",
       "    </tr>\n",
       "    <tr>\n",
       "      <th>7</th>\n",
       "      <td>Basketball</td>\n",
       "      <td>[0.02804890275001526, -0.029973171651363373, -...</td>\n",
       "      <td>0.692718</td>\n",
       "    </tr>\n",
       "    <tr>\n",
       "      <th>6</th>\n",
       "      <td>Tennis</td>\n",
       "      <td>[0.02970757521688938, -0.032389119267463684, 0...</td>\n",
       "      <td>0.677155</td>\n",
       "    </tr>\n",
       "    <tr>\n",
       "      <th>5</th>\n",
       "      <td>Footbal</td>\n",
       "      <td>[0.02349284291267395, -0.030407171696424484, -...</td>\n",
       "      <td>0.677102</td>\n",
       "    </tr>\n",
       "  </tbody>\n",
       "</table>\n",
       "</div>"
      ],
      "text/plain": [
       "         Words                                          embedding  \\\n",
       "3          Dog  [0.03929851949214935, -0.03392379730939865, -0...   \n",
       "2        Tiger  [0.005499841179698706, -0.057277318090200424, ...   \n",
       "0     Elephant  [0.037000417709350586, -0.04222828522324562, -...   \n",
       "4      Cricket  [0.03606771305203438, -0.06015719100832939, -0...   \n",
       "8        Apple  [0.05310168117284775, -0.007394417654722929, -...   \n",
       "10      Banana  [0.051837220788002014, -0.022469904273748398, ...   \n",
       "1         Lion  [0.04014349728822708, -0.019579103216528893, -...   \n",
       "7   Basketball  [0.02804890275001526, -0.029973171651363373, -...   \n",
       "6       Tennis  [0.02970757521688938, -0.032389119267463684, 0...   \n",
       "5      Footbal  [0.02349284291267395, -0.030407171696424484, -...   \n",
       "\n",
       "    similarity score  \n",
       "3           0.779182  \n",
       "2           0.746696  \n",
       "0           0.716810  \n",
       "4           0.709049  \n",
       "8           0.697230  \n",
       "10          0.697124  \n",
       "1           0.694085  \n",
       "7           0.692718  \n",
       "6           0.677155  \n",
       "5           0.677102  "
      ]
     },
     "execution_count": 47,
     "metadata": {},
     "output_type": "execute_result"
    }
   ],
   "source": [
    "df.sort_values(\"similarity score\", ascending = False).head(10)"
   ]
  },
  {
   "cell_type": "code",
   "execution_count": null,
   "id": "ff645927-5caa-4a70-97b5-585d4b414b06",
   "metadata": {},
   "outputs": [],
   "source": []
  },
  {
   "cell_type": "code",
   "execution_count": null,
   "id": "e8d23e15-2401-4ccb-88d8-293f141f2273",
   "metadata": {},
   "outputs": [],
   "source": []
  },
  {
   "cell_type": "code",
   "execution_count": null,
   "id": "951b7138-cfbc-419e-8988-30975c61540f",
   "metadata": {},
   "outputs": [],
   "source": []
  }
 ],
 "metadata": {
  "kernelspec": {
   "display_name": "Python 3 (ipykernel)",
   "language": "python",
   "name": "python3"
  },
  "language_info": {
   "codemirror_mode": {
    "name": "ipython",
    "version": 3
   },
   "file_extension": ".py",
   "mimetype": "text/x-python",
   "name": "python",
   "nbconvert_exporter": "python",
   "pygments_lexer": "ipython3",
   "version": "3.12.7"
  }
 },
 "nbformat": 4,
 "nbformat_minor": 5
}
