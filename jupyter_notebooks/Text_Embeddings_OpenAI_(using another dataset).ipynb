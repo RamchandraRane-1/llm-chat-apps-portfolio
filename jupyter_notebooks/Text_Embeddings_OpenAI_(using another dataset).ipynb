{
  "cells": [
    {
      "cell_type": "code",
      "execution_count": 18,
      "metadata": {
        "id": "1WmpcEmny_IJ"
      },
      "outputs": [],
      "source": [
        "# ✅ STEP 1: Install OpenAI (if needed)\n",
        "!pip install --quiet openai"
      ]
    },
    {
      "cell_type": "code",
      "execution_count": 19,
      "metadata": {
        "id": "5rvTVteDy_Db"
      },
      "outputs": [],
      "source": [
        "# ✅ STEP 2: Import libraries\n",
        "import pandas as pd\n",
        "import openai\n",
        "import numpy as np\n",
        "import time\n",
        "from sklearn.metrics.pairwise import cosine_similarity\n",
        "import os"
      ]
    },
    {
      "cell_type": "code",
      "execution_count": 20,
      "metadata": {
        "id": "oB0hPtnny_Aa"
      },
      "outputs": [],
      "source": [
        "# ✅ STEP 3: Enter your OpenAI API key\n",
        "import getpass\n",
        "openai.api_key = getpass.getpass(\"🔑 Enter your OpenAI API key: \")"
      ]
    },
    {
      "cell_type": "code",
      "execution_count": null,
      "metadata": {
        "id": "1N7beSvWy-85"
      },
      "outputs": [],
      "source": [
        "# ✅ STEP 4: Load dataset\n",
        "df = pd.read_csv(r\"ATTACH_YOUR_DATASET_PATH\")"
      ]
    },
    {
      "cell_type": "code",
      "execution_count": 22,
      "metadata": {
        "id": "7UijCGNNy-x6"
      },
      "outputs": [],
      "source": [
        "# ✅ STEP 5: Embedding function with retry logic\n",
        "def get_embedding(text, model=\"text-embedding-3-small\"):\n",
        "    while True:\n",
        "        try:\n",
        "            response = openai.embeddings.create(input=[text], model=model)\n",
        "            return response.data[0].embedding\n",
        "        except openai.RateLimitError:\n",
        "            print(\"⏳ Rate limit hit. Sleeping 2s...\")\n",
        "            time.sleep(2)\n",
        "        except Exception as e:\n",
        "            print(f\"❌ Embedding error: {e}\")\n",
        "            return None"
      ]
    },
    {
      "cell_type": "code",
      "execution_count": 23,
      "metadata": {
        "id": "XuTuHFewzJ8h"
      },
      "outputs": [
        {
          "name": "stdout",
          "output_type": "stream",
          "text": [
            "🚀 Generating embeddings...\n",
            "💾 Saved embeddings to .pkl file\n"
          ]
        }
      ],
      "source": [
        "# ✅ STEP 6: Embed and cache\n",
        "embedding_file = \"reduced_text_dataset_with_embeddings.pkl\"\n",
        "\n",
        "if os.path.exists(embedding_file):\n",
        "    print(\"✅ Loading cached embeddings...\")\n",
        "    df = pd.read_pickle(embedding_file)\n",
        "else:\n",
        "    print(\"🚀 Generating embeddings...\")\n",
        "    df[\"embedding\"] = df[\"Text\"].apply(lambda x: get_embedding(x))\n",
        "    df.to_pickle(embedding_file)\n",
        "    print(\"💾 Saved embeddings to .pkl file\")"
      ]
    },
    {
      "cell_type": "code",
      "execution_count": 24,
      "metadata": {
        "id": "WoCWXh6OzJ4p"
      },
      "outputs": [],
      "source": [
        "# ✅ STEP 7: Similarity function\n",
        "embedding_matrix = np.vstack(df[\"embedding\"].values)\n",
        "\n",
        "def find_similar_entries(query, top_n=5):\n",
        "    query_embedding = get_embedding(query)\n",
        "    query_embedding = np.array(query_embedding).reshape(1, -1)\n",
        "\n",
        "    similarities = cosine_similarity(query_embedding, embedding_matrix)[0]\n",
        "    top_indices = similarities.argsort()[::-1][:top_n]\n",
        "\n",
        "    return df.iloc[top_indices][[\"Text\", \"Label\"]].assign(Similarity=similarities[top_indices])"
      ]
    },
    {
      "cell_type": "code",
      "execution_count": 25,
      "metadata": {
        "id": "W-Nbuc_IzRCp"
      },
      "outputs": [],
      "source": [
        "# ✅ STEP 8: Run similarity search\n",
        "query = input(\"🔍 Enter your query: \")\n",
        "results = find_similar_entries(query)"
      ]
    },
    {
      "cell_type": "code",
      "execution_count": 26,
      "metadata": {
        "id": "Uc8UXcBjzQ5B"
      },
      "outputs": [
        {
          "name": "stdout",
          "output_type": "stream",
          "text": [
            "\n",
            "🔗 Top similar results:\n"
          ]
        },
        {
          "data": {
            "text/html": [
              "<div>\n",
              "<style scoped>\n",
              "    .dataframe tbody tr th:only-of-type {\n",
              "        vertical-align: middle;\n",
              "    }\n",
              "\n",
              "    .dataframe tbody tr th {\n",
              "        vertical-align: top;\n",
              "    }\n",
              "\n",
              "    .dataframe thead th {\n",
              "        text-align: right;\n",
              "    }\n",
              "</style>\n",
              "<table border=\"1\" class=\"dataframe\">\n",
              "  <thead>\n",
              "    <tr style=\"text-align: right;\">\n",
              "      <th></th>\n",
              "      <th>Text</th>\n",
              "      <th>Label</th>\n",
              "      <th>Similarity</th>\n",
              "    </tr>\n",
              "  </thead>\n",
              "  <tbody>\n",
              "    <tr>\n",
              "      <th>13</th>\n",
              "      <td>Schools to take part in mock poll\\n \\n Record ...</td>\n",
              "      <td>0</td>\n",
              "      <td>0.701738</td>\n",
              "    </tr>\n",
              "    <tr>\n",
              "      <th>34</th>\n",
              "      <td>Labour's election love-in\\n \\n Peace and love ...</td>\n",
              "      <td>0</td>\n",
              "      <td>0.278183</td>\n",
              "    </tr>\n",
              "    <tr>\n",
              "      <th>22</th>\n",
              "      <td>Lib Dems unveil election slogan\\n \\n The Liber...</td>\n",
              "      <td>0</td>\n",
              "      <td>0.259875</td>\n",
              "    </tr>\n",
              "    <tr>\n",
              "      <th>12</th>\n",
              "      <td>Greer attacks 'bully' Big Brother\\n \\n Germain...</td>\n",
              "      <td>3</td>\n",
              "      <td>0.252135</td>\n",
              "    </tr>\n",
              "    <tr>\n",
              "      <th>25</th>\n",
              "      <td>Anti-spam screensaver scrapped\\n \\n A contenti...</td>\n",
              "      <td>2</td>\n",
              "      <td>0.249470</td>\n",
              "    </tr>\n",
              "  </tbody>\n",
              "</table>\n",
              "</div>"
            ],
            "text/plain": [
              "                                                 Text  Label  Similarity\n",
              "13  Schools to take part in mock poll\\n \\n Record ...      0    0.701738\n",
              "34  Labour's election love-in\\n \\n Peace and love ...      0    0.278183\n",
              "22  Lib Dems unveil election slogan\\n \\n The Liber...      0    0.259875\n",
              "12  Greer attacks 'bully' Big Brother\\n \\n Germain...      3    0.252135\n",
              "25  Anti-spam screensaver scrapped\\n \\n A contenti...      2    0.249470"
            ]
          },
          "metadata": {},
          "output_type": "display_data"
        }
      ],
      "source": [
        "# ✅ STEP 9: Show results\n",
        "print(\"\\n🔗 Top similar results:\")\n",
        "display(results)"
      ]
    }
  ],
  "metadata": {
    "colab": {
      "provenance": []
    },
    "kernelspec": {
      "display_name": "base",
      "language": "python",
      "name": "python3"
    },
    "language_info": {
      "codemirror_mode": {
        "name": "ipython",
        "version": 3
      },
      "file_extension": ".py",
      "mimetype": "text/x-python",
      "name": "python",
      "nbconvert_exporter": "python",
      "pygments_lexer": "ipython3",
      "version": "3.12.7"
    }
  },
  "nbformat": 4,
  "nbformat_minor": 0
}
