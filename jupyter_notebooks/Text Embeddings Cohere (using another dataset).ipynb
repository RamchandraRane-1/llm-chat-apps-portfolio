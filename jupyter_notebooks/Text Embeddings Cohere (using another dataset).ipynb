{
 "cells": [
  {
   "cell_type": "code",
   "execution_count": 17,
   "id": "78efeb21",
   "metadata": {},
   "outputs": [
    {
     "name": "stdout",
     "output_type": "stream",
     "text": [
      "Defaulting to user installation because normal site-packages is not writeable\n",
      "Requirement already satisfied: cohere in c:\\users\\ranes\\appdata\\roaming\\python\\python312\\site-packages (5.15.0)\n",
      "Requirement already satisfied: fastavro<2.0.0,>=1.9.4 in c:\\users\\ranes\\appdata\\roaming\\python\\python312\\site-packages (from cohere) (1.11.1)\n",
      "Requirement already satisfied: httpx>=0.21.2 in c:\\programdata\\anaconda3\\lib\\site-packages (from cohere) (0.27.0)\n",
      "Requirement already satisfied: httpx-sse==0.4.0 in c:\\users\\ranes\\appdata\\roaming\\python\\python312\\site-packages (from cohere) (0.4.0)\n",
      "Requirement already satisfied: pydantic>=1.9.2 in c:\\users\\ranes\\appdata\\roaming\\python\\python312\\site-packages (from cohere) (2.11.7)\n",
      "Requirement already satisfied: pydantic-core<3.0.0,>=2.18.2 in c:\\users\\ranes\\appdata\\roaming\\python\\python312\\site-packages (from cohere) (2.33.2)\n",
      "Requirement already satisfied: requests<3.0.0,>=2.0.0 in c:\\programdata\\anaconda3\\lib\\site-packages (from cohere) (2.32.3)\n",
      "Requirement already satisfied: tokenizers<1,>=0.15 in c:\\users\\ranes\\appdata\\roaming\\python\\python312\\site-packages (from cohere) (0.21.1)\n",
      "Requirement already satisfied: types-requests<3.0.0,>=2.0.0 in c:\\users\\ranes\\appdata\\roaming\\python\\python312\\site-packages (from cohere) (2.32.4.20250611)\n",
      "Requirement already satisfied: typing_extensions>=4.0.0 in c:\\users\\ranes\\appdata\\roaming\\python\\python312\\site-packages (from cohere) (4.14.0)\n",
      "Requirement already satisfied: anyio in c:\\programdata\\anaconda3\\lib\\site-packages (from httpx>=0.21.2->cohere) (4.2.0)\n",
      "Requirement already satisfied: certifi in c:\\programdata\\anaconda3\\lib\\site-packages (from httpx>=0.21.2->cohere) (2025.4.26)\n",
      "Requirement already satisfied: httpcore==1.* in c:\\programdata\\anaconda3\\lib\\site-packages (from httpx>=0.21.2->cohere) (1.0.2)\n",
      "Requirement already satisfied: idna in c:\\programdata\\anaconda3\\lib\\site-packages (from httpx>=0.21.2->cohere) (3.7)\n",
      "Requirement already satisfied: sniffio in c:\\programdata\\anaconda3\\lib\\site-packages (from httpx>=0.21.2->cohere) (1.3.0)\n",
      "Requirement already satisfied: h11<0.15,>=0.13 in c:\\programdata\\anaconda3\\lib\\site-packages (from httpcore==1.*->httpx>=0.21.2->cohere) (0.14.0)\n",
      "Requirement already satisfied: annotated-types>=0.6.0 in c:\\programdata\\anaconda3\\lib\\site-packages (from pydantic>=1.9.2->cohere) (0.6.0)\n",
      "Requirement already satisfied: typing-inspection>=0.4.0 in c:\\users\\ranes\\appdata\\roaming\\python\\python312\\site-packages (from pydantic>=1.9.2->cohere) (0.4.1)\n",
      "Requirement already satisfied: charset-normalizer<4,>=2 in c:\\programdata\\anaconda3\\lib\\site-packages (from requests<3.0.0,>=2.0.0->cohere) (3.3.2)\n",
      "Requirement already satisfied: urllib3<3,>=1.21.1 in c:\\programdata\\anaconda3\\lib\\site-packages (from requests<3.0.0,>=2.0.0->cohere) (2.2.3)\n",
      "Requirement already satisfied: huggingface-hub<1.0,>=0.16.4 in c:\\users\\ranes\\appdata\\roaming\\python\\python312\\site-packages (from tokenizers<1,>=0.15->cohere) (0.32.5)\n",
      "Requirement already satisfied: filelock in c:\\programdata\\anaconda3\\lib\\site-packages (from huggingface-hub<1.0,>=0.16.4->tokenizers<1,>=0.15->cohere) (3.13.1)\n",
      "Requirement already satisfied: fsspec>=2023.5.0 in c:\\programdata\\anaconda3\\lib\\site-packages (from huggingface-hub<1.0,>=0.16.4->tokenizers<1,>=0.15->cohere) (2024.6.1)\n",
      "Requirement already satisfied: packaging>=20.9 in c:\\users\\ranes\\appdata\\roaming\\python\\python312\\site-packages (from huggingface-hub<1.0,>=0.16.4->tokenizers<1,>=0.15->cohere) (23.2)\n",
      "Requirement already satisfied: pyyaml>=5.1 in c:\\programdata\\anaconda3\\lib\\site-packages (from huggingface-hub<1.0,>=0.16.4->tokenizers<1,>=0.15->cohere) (6.0.1)\n",
      "Requirement already satisfied: tqdm>=4.42.1 in c:\\programdata\\anaconda3\\lib\\site-packages (from huggingface-hub<1.0,>=0.16.4->tokenizers<1,>=0.15->cohere) (4.66.5)\n",
      "Requirement already satisfied: colorama in c:\\programdata\\anaconda3\\lib\\site-packages (from tqdm>=4.42.1->huggingface-hub<1.0,>=0.16.4->tokenizers<1,>=0.15->cohere) (0.4.6)\n"
     ]
    }
   ],
   "source": [
    "!pip install cohere"
   ]
  },
  {
   "cell_type": "code",
   "execution_count": 18,
   "id": "9dcfea33",
   "metadata": {},
   "outputs": [],
   "source": [
    "import pandas as pd\n",
    "import cohere\n",
    "import numpy as np\n",
    "from sklearn.metrics.pairwise import cosine_similarity\n",
    "import time\n",
    "import os"
   ]
  },
  {
   "cell_type": "code",
   "execution_count": null,
   "id": "cf063882",
   "metadata": {},
   "outputs": [],
   "source": [
    "co = cohere.Client(\"YOUR_COHERE_API_KEY\")  "
   ]
  },
  {
   "cell_type": "code",
   "execution_count": null,
   "id": "fa47d43f",
   "metadata": {},
   "outputs": [
    {
     "data": {
      "text/html": [
       "<div>\n",
       "<style scoped>\n",
       "    .dataframe tbody tr th:only-of-type {\n",
       "        vertical-align: middle;\n",
       "    }\n",
       "\n",
       "    .dataframe tbody tr th {\n",
       "        vertical-align: top;\n",
       "    }\n",
       "\n",
       "    .dataframe thead th {\n",
       "        text-align: right;\n",
       "    }\n",
       "</style>\n",
       "<table border=\"1\" class=\"dataframe\">\n",
       "  <thead>\n",
       "    <tr style=\"text-align: right;\">\n",
       "      <th></th>\n",
       "      <th>Text</th>\n",
       "      <th>Label</th>\n",
       "    </tr>\n",
       "  </thead>\n",
       "  <tbody>\n",
       "    <tr>\n",
       "      <th>0</th>\n",
       "      <td>David Blunkett in quotes\\n \\n David Blunkett -...</td>\n",
       "      <td>0</td>\n",
       "    </tr>\n",
       "    <tr>\n",
       "      <th>1</th>\n",
       "      <td>Benitez issues warning to Gerrard\\n \\n Liverpo...</td>\n",
       "      <td>1</td>\n",
       "    </tr>\n",
       "    <tr>\n",
       "      <th>2</th>\n",
       "      <td>Brookside creator's Channel 4 bid\\n \\n The cre...</td>\n",
       "      <td>3</td>\n",
       "    </tr>\n",
       "    <tr>\n",
       "      <th>3</th>\n",
       "      <td>Brown visits slum on Africa trip\\n \\n Chancell...</td>\n",
       "      <td>0</td>\n",
       "    </tr>\n",
       "    <tr>\n",
       "      <th>4</th>\n",
       "      <td>Gritty return for Prince of Persia\\n \\n Still ...</td>\n",
       "      <td>2</td>\n",
       "    </tr>\n",
       "  </tbody>\n",
       "</table>\n",
       "</div>"
      ],
      "text/plain": [
       "                                                Text  Label\n",
       "0  David Blunkett in quotes\\n \\n David Blunkett -...      0\n",
       "1  Benitez issues warning to Gerrard\\n \\n Liverpo...      1\n",
       "2  Brookside creator's Channel 4 bid\\n \\n The cre...      3\n",
       "3  Brown visits slum on Africa trip\\n \\n Chancell...      0\n",
       "4  Gritty return for Prince of Persia\\n \\n Still ...      2"
      ]
     },
     "execution_count": 20,
     "metadata": {},
     "output_type": "execute_result"
    }
   ],
   "source": [
    "df = pd.read_csv(r\"ATTACH_YOUR_DATASET_PATH\")\n",
    "df.head()"
   ]
  },
  {
   "cell_type": "code",
   "execution_count": null,
   "id": "c236f8e1",
   "metadata": {},
   "outputs": [],
   "source": [
    "def get_embedding(text):\n",
    "    while True:\n",
    "        try:\n",
    "            response = co.embed(\n",
    "                texts=[text],\n",
    "                model=\"embed-english-v3.0\",\n",
    "                input_type=\"search_document\",  \n",
    "                truncate=\"END\"\n",
    "            )\n",
    "            return response.embeddings[0]\n",
    "        except Exception as e:\n",
    "            print(f\"❌ Error: {e}. Retrying in 2s...\")\n",
    "            time.sleep(2)"
   ]
  },
  {
   "cell_type": "code",
   "execution_count": 22,
   "id": "68cef157",
   "metadata": {},
   "outputs": [
    {
     "name": "stdout",
     "output_type": "stream",
     "text": [
      "🚀 Generating Cohere embeddings...\n",
      "💾 Saved to cohere_embeddings.pkl\n"
     ]
    }
   ],
   "source": [
    "embedding_file = \"cohere_embeddings.pkl\"\n",
    "\n",
    "if os.path.exists(embedding_file):\n",
    "    print(\"✅ Loaded cached embeddings\")\n",
    "    df = pd.read_pickle(embedding_file)\n",
    "else:\n",
    "    print(\"🚀 Generating Cohere embeddings...\")\n",
    "    df[\"embedding\"] = df[\"Text\"].apply(get_embedding)\n",
    "    df.to_pickle(embedding_file)\n",
    "    print(f\"💾 Saved to {embedding_file}\")\n"
   ]
  },
  {
   "cell_type": "code",
   "execution_count": 23,
   "id": "5c96dad3",
   "metadata": {},
   "outputs": [],
   "source": [
    "embedding_matrix = np.vstack(df[\"embedding\"].values)\n",
    "\n",
    "def find_similar_entries(query, top_n=5):\n",
    "    query_embedding = get_embedding(query)\n",
    "    query_embedding = np.array(query_embedding).reshape(1, -1)\n",
    "    similarities = cosine_similarity(query_embedding, embedding_matrix)[0]\n",
    "    top_indices = similarities.argsort()[::-1][:top_n]\n",
    "    return df.iloc[top_indices][[\"Text\", \"Label\"]].assign(Similarity=similarities[top_indices])\n"
   ]
  },
  {
   "cell_type": "code",
   "execution_count": 24,
   "id": "a6348d95",
   "metadata": {},
   "outputs": [
    {
     "data": {
      "text/html": [
       "<div>\n",
       "<style scoped>\n",
       "    .dataframe tbody tr th:only-of-type {\n",
       "        vertical-align: middle;\n",
       "    }\n",
       "\n",
       "    .dataframe tbody tr th {\n",
       "        vertical-align: top;\n",
       "    }\n",
       "\n",
       "    .dataframe thead th {\n",
       "        text-align: right;\n",
       "    }\n",
       "</style>\n",
       "<table border=\"1\" class=\"dataframe\">\n",
       "  <thead>\n",
       "    <tr style=\"text-align: right;\">\n",
       "      <th></th>\n",
       "      <th>Text</th>\n",
       "      <th>Label</th>\n",
       "      <th>Similarity</th>\n",
       "    </tr>\n",
       "  </thead>\n",
       "  <tbody>\n",
       "    <tr>\n",
       "      <th>13</th>\n",
       "      <td>Schools to take part in mock poll\\n \\n Record ...</td>\n",
       "      <td>0</td>\n",
       "      <td>0.579614</td>\n",
       "    </tr>\n",
       "    <tr>\n",
       "      <th>48</th>\n",
       "      <td>Student 'fee factor' played down\\n \\n A rise h...</td>\n",
       "      <td>0</td>\n",
       "      <td>0.256741</td>\n",
       "    </tr>\n",
       "    <tr>\n",
       "      <th>34</th>\n",
       "      <td>Labour's election love-in\\n \\n Peace and love ...</td>\n",
       "      <td>0</td>\n",
       "      <td>0.219050</td>\n",
       "    </tr>\n",
       "    <tr>\n",
       "      <th>22</th>\n",
       "      <td>Lib Dems unveil election slogan\\n \\n The Liber...</td>\n",
       "      <td>0</td>\n",
       "      <td>0.216986</td>\n",
       "    </tr>\n",
       "    <tr>\n",
       "      <th>14</th>\n",
       "      <td>A November to remember\\n \\n Last Saturday, one...</td>\n",
       "      <td>1</td>\n",
       "      <td>0.209654</td>\n",
       "    </tr>\n",
       "  </tbody>\n",
       "</table>\n",
       "</div>"
      ],
      "text/plain": [
       "                                                 Text  Label  Similarity\n",
       "13  Schools to take part in mock poll\\n \\n Record ...      0    0.579614\n",
       "48  Student 'fee factor' played down\\n \\n A rise h...      0    0.256741\n",
       "34  Labour's election love-in\\n \\n Peace and love ...      0    0.219050\n",
       "22  Lib Dems unveil election slogan\\n \\n The Liber...      0    0.216986\n",
       "14  A November to remember\\n \\n Last Saturday, one...      1    0.209654"
      ]
     },
     "metadata": {},
     "output_type": "display_data"
    }
   ],
   "source": [
    "query = input(\"🔍 Enter your query: \")\n",
    "results = find_similar_entries(query)\n",
    "display(results)\n"
   ]
  },
  {
   "cell_type": "code",
   "execution_count": null,
   "id": "b0e51747",
   "metadata": {},
   "outputs": [],
   "source": []
  },
  {
   "cell_type": "code",
   "execution_count": null,
   "id": "2c30843e",
   "metadata": {},
   "outputs": [],
   "source": []
  },
  {
   "cell_type": "code",
   "execution_count": null,
   "id": "3a139326",
   "metadata": {},
   "outputs": [],
   "source": []
  }
 ],
 "metadata": {
  "kernelspec": {
   "display_name": "base",
   "language": "python",
   "name": "python3"
  },
  "language_info": {
   "codemirror_mode": {
    "name": "ipython",
    "version": 3
   },
   "file_extension": ".py",
   "mimetype": "text/x-python",
   "name": "python",
   "nbconvert_exporter": "python",
   "pygments_lexer": "ipython3",
   "version": "3.12.7"
  }
 },
 "nbformat": 4,
 "nbformat_minor": 5
}
