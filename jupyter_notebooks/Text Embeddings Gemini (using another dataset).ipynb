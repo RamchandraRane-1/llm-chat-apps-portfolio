{
 "cells": [
  {
   "cell_type": "code",
   "execution_count": 23,
   "id": "adfbbddf-c2d3-47e0-a757-26fdf4a29acc",
   "metadata": {},
   "outputs": [],
   "source": [
    "import pandas as pd\n",
    "import numpy as np\n",
    "from sklearn.metrics.pairwise import cosine_similarity\n",
    "import google.generativeai as genai\n",
    "import os\n",
    "import time"
   ]
  },
  {
   "cell_type": "code",
   "execution_count": null,
   "id": "08265af4-d735-47e8-a86d-e58b1c5904fa",
   "metadata": {},
   "outputs": [],
   "source": [
    "genai.configure(api_key=\"YOUR_GOOGLE_API_KEY\")"
   ]
  },
  {
   "cell_type": "code",
   "execution_count": null,
   "id": "8b685900-5a06-4f1b-8048-a5e27fd46b84",
   "metadata": {},
   "outputs": [],
   "source": [
    "df = pd.read_csv(r\"ATTACH_YOUR_DATASET_PATH\")"
   ]
  },
  {
   "cell_type": "code",
   "execution_count": 26,
   "id": "c0806d16-91a8-4cff-a29a-05aeb946b8b0",
   "metadata": {},
   "outputs": [],
   "source": [
    "def get_embedding(text):\n",
    "    while True:\n",
    "        try:\n",
    "            response = genai.embed_content(\n",
    "                model=\"models/embedding-001\",\n",
    "                content=text,\n",
    "                task_type=\"retrieval_document\"\n",
    "            )\n",
    "            return response[\"embedding\"]\n",
    "        except Exception as e:\n",
    "            print(f\"❌ Error: {e}. Retrying...\")\n",
    "            time.sleep(2)"
   ]
  },
  {
   "cell_type": "code",
   "execution_count": 27,
   "id": "404feee4-abd9-46a6-86cd-8bc664ad3b44",
   "metadata": {},
   "outputs": [
    {
     "name": "stdout",
     "output_type": "stream",
     "text": [
      "🚀 Generating embeddings with Gemini...\n",
      "💾 Saved to: gemini_embeddings.pkl\n"
     ]
    }
   ],
   "source": [
    "# 💾 Cache embeddings to avoid reprocessing\n",
    "embedding_file = \"gemini_embeddings.pkl\"\n",
    "\n",
    "if os.path.exists(embedding_file):\n",
    "    print(\"✅ Loading cached embeddings...\")\n",
    "    df = pd.read_pickle(embedding_file)\n",
    "else:\n",
    "    print(\"🚀 Generating embeddings with Gemini...\")\n",
    "    df[\"embedding\"] = df[\"Text\"].apply(get_embedding)\n",
    "    df.to_pickle(embedding_file)\n",
    "    print(f\"💾 Saved to: {embedding_file}\")"
   ]
  },
  {
   "cell_type": "code",
   "execution_count": 28,
   "id": "d082e313-6bb7-495c-9480-cc051647388c",
   "metadata": {},
   "outputs": [],
   "source": [
    "# 📐 Convert to numpy matrix\n",
    "embedding_matrix = np.vstack(df[\"embedding\"].values)"
   ]
  },
  {
   "cell_type": "code",
   "execution_count": 29,
   "id": "ff645927-5caa-4a70-97b5-585d4b414b06",
   "metadata": {},
   "outputs": [],
   "source": [
    "# 🔍 Search function\n",
    "def find_similar_entries(query, top_n=5):\n",
    "    query_embedding = get_embedding(query)\n",
    "    query_embedding = np.array(query_embedding).reshape(1, -1)\n",
    "    similarities = cosine_similarity(query_embedding, embedding_matrix)[0]\n",
    "    top_indices = similarities.argsort()[::-1][:top_n]\n",
    "    return df.iloc[top_indices][[\"Text\", \"Label\"]].assign(Similarity=similarities[top_indices])"
   ]
  },
  {
   "cell_type": "code",
   "execution_count": 30,
   "id": "e8d23e15-2401-4ccb-88d8-293f141f2273",
   "metadata": {},
   "outputs": [
    {
     "name": "stdout",
     "output_type": "stream",
     "text": [
      "\n",
      "🔗 Top similar results:\n",
      "                                                                                                                                                                                                                                                                                                                                                                                                                                                                                                                                                                                                                                                                                                                                                                                                                                                                                                                                                                                                                                                                                                                                                                                                                                                                                                                                                                                                                                                                                                                                                                                                                                                                                                                                                                                                                                                                                                                                                                                                                                                                                                                                                                                                                                                                                                                                                                                                                                                                                                                                                                                                                                                                                                                                                                                                                                                                                                                                                                                                                                                                                                                                                                                                                                                                                                                                                                                                                                                                 Text  Label  Similarity\n",
      "                                                                                                                                                                                                                                                                                                                                                                                                                                                                                                                                                                                                                                                                                                                                                                                                                                                                                                                                                                                                                                                                                                                                                                                                                                                                                                                                                                                                                                                                                                                                                                                                                                                                                                   Schools to take part in mock poll\\n \\n Record numbers of schools across the UK are to take part in a mock general election backed by the government.\\n \\n Some 600 schools have already signed up for the Y Vote Mock Elections 2005 run by the Hansard Society and aimed at boosting interest in politics. Pupils in the schools taking part will learn the skills of speech writers, canvassers and political candidates. Schools Minister Stephen Twigg said engaging young people's interest was \"essential\" to the future of democracy.\\n \\n He added: said \"Young people who are engaged and motivated by the political process are essential to the future health of our democracy. \"The mock elections initiative provides an opportunity for pupils to develop their own understanding of how the democratic process works and why it matters. \"By experiencing the election process first hand - from running a campaign to the declaration of the final result - we hope that young people will develop the enthusiasm to take part in the future.\" The Hansard Society, the Electoral Commission and the Department for Education and Skills are running the programme. Pupils will stand as party candidates, speech writers and canvassers. Michael Raftery, project manager at the Hansard Society, said: \"The Y Vote Mock Elections for schools mirror the excitement and buzz of a real election, raising awareness of citizenship, and the benefits of active democracy.\" The mock votes will take place around 5 May, widely expected to be the date of the general election. Information packs, including ballot papers and manifesto guides, with elections happening in early May were sent out to the 3,000 schools invited to take part.\\n      0    0.754291\n",
      "                                                                                                                                                                                                                                                                                                                                                                                                                                                                                                                                                                                                                                                                                                                                                                                                                                                                                                                                                                                                                                                                                                                                                                                                                                                                                                                                                                                                                                                                                                                                                                                                                                                                                                                                                                                                                                                                                             Brown visits slum on Africa trip\\n \\n Chancellor Gordon Brown has visited Kenya's biggest shantytown as he opened a week-long visit to Africa.\\n \\n Mr Brown's trip is designed to highlight how the UK wants to make Africa's problems a priority of its chairmanship of the G8 this year. He will see an HIV/Aids orphanage in Tanzania and a women's credit union in Mozambique before chairing a meeting of the Commission for Africa in Cape Town. At slums in Narobi on Wednesday, he said education needs had to be tackled.\\n \\n Speaking outside the Olympic Primary School, Mr Brown said: \"It is simply not acceptable in the modern age for the rest of the world to stand by and have hundreds of millions of children not getting the chance at education.\" He pointed to international plans to invest $10bn for education in Africa over the next decade. The school is on the edge of Kibera, where 800,000 live often in huts made of mud, scrap metal and cardboard. Mr Brown's aides say he wants to find out more about the Kenyan Government's education policies, which included introducing free primary education in early 2003. The chancellor has already unveiled proposals for a G8 aid package which he has likened to the Marshall Plan used by the United States to rebuild Europe after World War Two. The trip follows claims of infighting between Mr Brown and Tony Blair detailed in a new book. Conservative leader Michael Howard is expected to seize on those reports at prime minister's questions at 1200 GMT on Wednesday.\\n      0    0.614690\n",
      "Labour's election love-in\\n \\n Peace and love have been in short supply in the Labour party in recent days.\\n \\n If press reports are to be believed, Alan Milburn and Gordon Brown have been at each other's throats over the contents of Labour's next election manifesto. But the pair were all smiles on Tuesday morning, as they joined John Prescott to unveil Labour's latest poster campaign. The event - at Old Billingsgate Fish Market on the banks of the Thames - was a carefully choreographed show of unity. And the surest sign yet that we are heading for a general election in the next few months. It was also one of the most bizarre photo opportunities of recent years.\\n \\n The first inkling something slightly odd was afoot was when - in place of the soft rock music normally chosen for such occasions - Labour's speakers crackled to life with the sound of Booker T and the MGs. Then a VW camper van trundled into view, decked out in that most mind-bending of psychedelic messages - \"lowest mortgage rate for 40 years\". As the side-door slid open, it looked for one glorious moment as if the Cabinet had decided to bury their differences and go on the road together, Scooby Doo-style. But, sadly, it wasn't the Cabinet who had raided the dressing-up box - just six rather ill-at-ease looking Labour students. Two were dressed as Regency dandies - to unveil a poster trumpeting \"the longest period of economic growth for 200 years\". Another pair of students were in a Beatle wig and Sgt Pepper jacket to highlight the \"lowest interest rates since the 1960s\".\\n \\n The remaining two were dressed in a vague approximation of disco chic to demonstrate the \"lowest unemployment since the seventies\".\\n \\n The politicians - led out by John Prescott - were soberly-suited as always. The event may have been designed to highlight Labour's economic success under Mr Brown, but there was little doubt who was in charge. The chancellor walked side-by-side with Mr Milburn, pointedly exchanging chit chat, as they approached the microphone. But it was Mr Milburn who took centre stage, speaking of the \"positive campaign\" the party hoped to stage in the \"coming weeks and months\".\\n \\n The mobile poster vans would \"let people know Britain is working again\". Mr Brown repeated the familiar mantras displayed on the posters and spoke of Labour's \"shared purpose\" and \"united dedication\". It was left to Mr Prescott to pay glowing tribute to the chancellor's record and, in a final flourish, to produce his famous pledge card, from 1997, claiming Labour has met all of its promises. The event was carefully stage-managed to underline Cabinet unity. And, more specifically, to demonstrate the \"central role\" Mr Brown will play in the election campaign, despite being sidelined as campaign chief in favour of Mr Milburn.\\n \\n But keen students of body language will have had a field day. There was much forced smiling for the cameras, but only Mr Prescott, who revels in such occasions, seemed to be truly enjoying himself. Mr Milburn made a point of turning to face the chancellor, as he spoke, nodding thoughtfully. But it was the former health secretary's final gesture, placing an arm on Mr Brown's back as they walked away from the microphones, which was perhaps the most telling. Thanks for dropping by Gordon, he might have been saying.\\n      0    0.613406\n",
      "                                                                                                                                                                                                                                                                                                                                           Student 'fee factor' played down\\n \\n A rise has been recorded in the number of students from south of the border applying to universities in Scotland.\\n \\n However, Lifelong Learning Minister Jim Wallace said that this would not result in Scottish students missing out. Applications from England and Wales rose by 17% between January 2005 and the previous year, up 23,600 to 27,700. Fears had been expressed that a flood of \"fee refugees\" would try to avoid top-up fees of up to Â£3,000 a year being introduced in England. In June last year, Mr Wallace announced proposals to increase tuition fees for English students studying in Scotland by Â£2,000 in an attempt to prevent a cross-border flood, although no figure has yet been agreed. Legislation to introduce the top-up fees in England is not due to take effect until autumn 2006 and students who start before then will not have to pay additional fees at all.\\n \\n The figures were made public on Thursday by admissions service Ucas. Universities Scotland, which represents university principals, claimed that an increase in applications did not amount to Scottish students being squeezed out. Director, David Caldwell, said some students could be applying in an attempt to avoid the possible increase in annual fees at English universities, but this was not a major factor. He told BBC Radio Scotland's Good Morning Scotland programme: \"The reason people are opting for Scottish universities is that they are perceived as being of very high quality, they offer very attractive courses and Scotland is seen as a very attractive place to study.\\n \\n \"They know that when they take up their studies in 2006 they will be hit by top-up fees if they are going to a university in England and that may be part of the reason why the numbers coming to Scotland are so inflated. \"However, it does not mean that we will see thousands of additional students from England studying here.\" Mr Wallace agreed and said the figures had to be looked at in context. He explained that when applications were translated into acceptances, the number was not huge - an additional figure of about 200.\\n \\n Also, the picture was further blurred by the fact that applications from Wales, where there are no plans for top-up fees, have also risen, by 19%. Mr Wallace said: \"Accepting students from all parts of the world does show the high regard in which Scottish higher education is held, not just in Britain. \"We want to make sure that when students are making their choice, they do so on the nature of the course and not because they are under some sort of financial pressure to go to Scotland. \"We do not want to have a situation where it becomes impossible for Scottish students to get places at Scottish universities because we are seen as the cheap option. \"Very often the quality of the university experience is enhanced by the fact there are students coming from a wide range of backgrounds so it would be wrong to go the other way and start excluding students.\"\\n      0    0.599935\n",
      "                                                                                                                                                                                                                                                                                                                                                                                                                                                                                       Lib Dems unveil election slogan\\n \\n The Liberal Democrats will present themselves as \"the real alternative\" in the forthcoming general election campaign, Charles Kennedy has said.\\n \\n Unveiling the slogan at the party's spring conference, he said there was no \"glass ceiling\" to its ambitions. He told delegates that Labour had abused the public's trust and that the Tories had failed to oppose them. In response, the Conservatives insisted that theirs was the party that understood the \"forgotten majority\".\\n \\n Speaking in Harrogate Mr Kennedy said: \"People want a credible, principled political party which offers a different vision of what Britain can be.\"\\n \\n Only the Liberal Democrats stood against the Iraq war, he said, and they had also provided strong opposition to the government's plans on ID cards, anti-terror measures and taxation. He said: \"If you voted Conservative in 2001 ... what good did it do you? Your vote was wasted. \"What people needed was ... a party which was listening to their concerns; a party which was prepared to stand up and say so; a party which said no to the prime minister.\" Responding to the claims Tory Party co-chairman Liam Fox said: \"Like Labour, the Lib Dems are soft on crime, support higher taxes, oppose controlled immigration and support giving Europe more control over our lives.\"\\n \\n Mr Kennedy also outlined his party's plan to impose a 50% income tax rate on earnings over Â£100,000 a year. The money would be used to help pay for key policies such as abolishing university tuition fees, scrapping council tax in favour of local income tax, and providing free care for the elderly, he said. Labour and the Tories claim the sums do not add up, and that working families would be hardest hit. Mr Kennedy said: \"Britain is the fourth-largest economy in the world. We have world class businesses and a world class workforce.\\n \\n \"So why are two million of our pensioners living below the poverty line?\" All the parties are campaigning hard for an expected election in May, although Prime Minister Tony Blair has not confirmed any timing. Earlier, Mr Kennedy told Radio 4's Today programme there was no possibility of forming a coalition with Labour in the event of a hung Parliament. \"We go into the election as an independent party and we come out as an independent party,\" he said. Mr Kennedy has been under fire in recent days for missing Monday's Commons vote on the government's controversial anti-terrorism laws, along with 16 other Lib Dem MPs. On Saturday, the Lib Dem chief executive said it was \"just a cock-up\" that Mr Kennedy and his colleagues missed the vote, which the government won by a majority of only 14. \"Nobody had any idea that was going to happen,\" Lord Rennard told reporters at the party conference. He said he was certain MPs would get another chance to vote against the plans.\\n      0    0.593543\n"
     ]
    }
   ],
   "source": [
    "# 🧪 Query-time logic\n",
    "if __name__ == \"__main__\":\n",
    "    query = input(\"🔍 Enter your query: \")\n",
    "    results = find_similar_entries(query)\n",
    "    print(\"\\n🔗 Top similar results:\")\n",
    "    print(results.to_string(index=False))"
   ]
  },
  {
   "cell_type": "code",
   "execution_count": null,
   "id": "951b7138-cfbc-419e-8988-30975c61540f",
   "metadata": {},
   "outputs": [],
   "source": []
  }
 ],
 "metadata": {
  "kernelspec": {
   "display_name": "base",
   "language": "python",
   "name": "python3"
  },
  "language_info": {
   "codemirror_mode": {
    "name": "ipython",
    "version": 3
   },
   "file_extension": ".py",
   "mimetype": "text/x-python",
   "name": "python",
   "nbconvert_exporter": "python",
   "pygments_lexer": "ipython3",
   "version": "3.12.7"
  }
 },
 "nbformat": 4,
 "nbformat_minor": 5
}
